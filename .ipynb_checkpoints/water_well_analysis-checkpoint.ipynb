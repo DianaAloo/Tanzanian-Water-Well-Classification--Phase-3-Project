{
 "cells": [
  {
   "cell_type": "markdown",
   "metadata": {},
   "source": [
    "# Predicting Tanzanian Water Well Functionality\n",
    "\n",
    "**Author:** Diana Terry Awuor Aloo  \n",
    "**Project:** AI for Sustainable Water Access — Tanzanian Water Well Classification  \n",
    "**Repository:**  `Tanzanian-Water-Well-Classification--Phase-3-Project`\n",
    "\n",
    "---\n",
    "\n",
    "## 1. Business Understanding (CRISP-DM)\n",
    "\n",
    "### 1.1 Stakeholders\n",
    "- **Primary:** Tanzanian Ministry of Water & Irrigation, local water agencies, and NGOs (e.g., WaterAid, UNICEF).  \n",
    "- **Secondary:** Donor organizations, field maintenance teams, local communities.\n",
    "\n",
    "### 1.2 Problem Statement\n",
    "Many water points (wells) in Tanzania become non-functional or fall into disrepair. This results in communities losing reliable access to clean water and wastes limited maintenance resources.  \n",
    "I will **build a predictive classification model** that forecasts the operational status of a water point (e.g., *functional*, *functional needs repair*, *non-functional*) based on installation, environmental, and usage features.\n",
    "\n",
    "### 1.3 Business Objectives\n",
    "- **Primary objective:** Provide a model that **accurately identifies wells at risk of failure** so stakeholders can prioritize inspections and allocate repair budgets efficiently.\n",
    "- **Secondary objectives:**\n",
    "  - Identify key features associated with failing wells (e.g., installer, pump type, age).\n",
    "  - Provide prescriptive recommendations for improving well longevity (e.g., preferred pump types or installer practices).\n",
    "  - Package a reproducible notebook + trained model for handoff.\n",
    "\n",
    "### 1.4 Data Science Objectives\n",
    "- Build an end-to-end predictive pipeline that includes:\n",
    "  - EDA and feature engineering\n",
    "  - Baseline interpretable model (Logistic Regression or single Decision Tree)\n",
    "  - Tuned model(s) (regularized logistic regression, tuned decision tree, and an ensemble as optional)\n",
    "  - Model evaluation with appropriate classification metrics (training + test)\n",
    "- Demonstrate reproducibility (clear code, saved model artifacts, README).\n",
    "\n",
    "### 1.5 Success Criteria & Metrics\n",
    "I will Choose metrics that align with stakeholder priorities. For this project I will focus on:\n",
    "- **Primary metric:** *F1-score* for the *non-functional* class (balances precision & recall when false positives and false negatives both matter).\n",
    "- **Complementary metrics:** Precision, Recall, Confusion Matrix, and **ROC-AUC** (macro or per-class where appropriate).  \n",
    "- **Operational threshold example:** If the model achieves **F1 ≥ 0.65** on the holdout test set for the non-functional class, it will be considered viable for pilot deployment (example target — adjust after EDA).\n",
    "\n",
    "**Why F1 for non-functional?**  \n",
    "False negatives (missed failing wells) may leave communities without water; false positives waste repair resources. F1 balances both concerns. We may also prioritize **Recall** if avoiding missed failures is more critical.\n",
    "\n",
    "\n",
    "\n",
    "### 1.8 Next steps\n",
    "Proceed to **Data Understanding**:\n",
    "- Load training and label CSVs\n",
    "- Merge features and labels into a single DataFrame\n",
    "- Inspect columns, datatypes, missingness, and target balance\n",
    "- Create initial EDA visuals (target distribution, key numeric feature histograms)\n"
   ]
  },
  {
   "cell_type": "code",
   "execution_count": 1,
   "metadata": {},
   "outputs": [
    {
     "data": {
      "text/plain": [
       "{'name': 'AI for Sustainable Water Access - Tanzanian Water Wells',\n",
       " 'author': 'Diana Aloo',\n",
       " 'repo': 'Tanzanian-Water-Well-Classification--Phase-3-Project',\n",
       " 'data_raw_path': 'training_set_values.csv',\n",
       " 'labels_path': 'training_set_labels.csv',\n",
       " 'test_values_path': 'test_set_values.csv'}"
      ]
     },
     "execution_count": 1,
     "metadata": {},
     "output_type": "execute_result"
    }
   ],
   "source": [
    "# Project metadata & constants\n",
    "PROJECT = {\n",
    "    \"name\": \"AI for Sustainable Water Access - Tanzanian Water Wells\",\n",
    "    \"author\": \"Diana Aloo\",\n",
    "    \"repo\": \"Tanzanian-Water-Well-Classification--Phase-3-Project\",\n",
    "    \"data_raw_path\": \"training_set_values.csv\",\n",
    "    \"labels_path\": \"training_set_labels.csv\",\n",
    "    \"test_values_path\": \"test_set_values.csv\"\n",
    "}\n",
    "\n",
    "PROJECT\n"
   ]
  },
  {
   "cell_type": "markdown",
   "metadata": {},
   "source": [
    "### Data Understanding\n",
    "\n",
    "This project uses the **Tanzanian Water Well Dataset** from the DrivenData competition *Pump It Up: Data Mining the Water Table*.  \n",
    "The goal is to **predict the functionality status** of water points across Tanzania, categorized as:\n",
    "- `functional`\n",
    "- `functional needs repair`\n",
    "- `non functional`\n",
    "\n",
    "The dataset contains **information about water pumps**, such as location, construction details, management, and water quality.\n",
    "We will explore and understand the data to identify issues, patterns, and potential predictive features.\n"
   ]
  },
  {
   "cell_type": "markdown",
   "metadata": {},
   "source": [
    "#### Load the data"
   ]
  },
  {
   "cell_type": "code",
   "execution_count": 2,
   "metadata": {},
   "outputs": [
    {
     "name": "stdout",
     "output_type": "stream",
     "text": [
      "Train shape: (59400, 41)\n",
      "Test shape: (14850, 40)\n"
     ]
    },
    {
     "data": {
      "text/html": [
       "<div>\n",
       "<style scoped>\n",
       "    .dataframe tbody tr th:only-of-type {\n",
       "        vertical-align: middle;\n",
       "    }\n",
       "\n",
       "    .dataframe tbody tr th {\n",
       "        vertical-align: top;\n",
       "    }\n",
       "\n",
       "    .dataframe thead th {\n",
       "        text-align: right;\n",
       "    }\n",
       "</style>\n",
       "<table border=\"1\" class=\"dataframe\">\n",
       "  <thead>\n",
       "    <tr style=\"text-align: right;\">\n",
       "      <th></th>\n",
       "      <th>id</th>\n",
       "      <th>amount_tsh</th>\n",
       "      <th>date_recorded</th>\n",
       "      <th>funder</th>\n",
       "      <th>gps_height</th>\n",
       "      <th>installer</th>\n",
       "      <th>longitude</th>\n",
       "      <th>latitude</th>\n",
       "      <th>wpt_name</th>\n",
       "      <th>num_private</th>\n",
       "      <th>...</th>\n",
       "      <th>water_quality</th>\n",
       "      <th>quality_group</th>\n",
       "      <th>quantity</th>\n",
       "      <th>quantity_group</th>\n",
       "      <th>source</th>\n",
       "      <th>source_type</th>\n",
       "      <th>source_class</th>\n",
       "      <th>waterpoint_type</th>\n",
       "      <th>waterpoint_type_group</th>\n",
       "      <th>status_group</th>\n",
       "    </tr>\n",
       "  </thead>\n",
       "  <tbody>\n",
       "    <tr>\n",
       "      <th>0</th>\n",
       "      <td>69572</td>\n",
       "      <td>6000.0</td>\n",
       "      <td>2011-03-14</td>\n",
       "      <td>Roman</td>\n",
       "      <td>1390</td>\n",
       "      <td>Roman</td>\n",
       "      <td>34.938093</td>\n",
       "      <td>-9.856322</td>\n",
       "      <td>none</td>\n",
       "      <td>0</td>\n",
       "      <td>...</td>\n",
       "      <td>soft</td>\n",
       "      <td>good</td>\n",
       "      <td>enough</td>\n",
       "      <td>enough</td>\n",
       "      <td>spring</td>\n",
       "      <td>spring</td>\n",
       "      <td>groundwater</td>\n",
       "      <td>communal standpipe</td>\n",
       "      <td>communal standpipe</td>\n",
       "      <td>functional</td>\n",
       "    </tr>\n",
       "    <tr>\n",
       "      <th>1</th>\n",
       "      <td>8776</td>\n",
       "      <td>0.0</td>\n",
       "      <td>2013-03-06</td>\n",
       "      <td>Grumeti</td>\n",
       "      <td>1399</td>\n",
       "      <td>GRUMETI</td>\n",
       "      <td>34.698766</td>\n",
       "      <td>-2.147466</td>\n",
       "      <td>Zahanati</td>\n",
       "      <td>0</td>\n",
       "      <td>...</td>\n",
       "      <td>soft</td>\n",
       "      <td>good</td>\n",
       "      <td>insufficient</td>\n",
       "      <td>insufficient</td>\n",
       "      <td>rainwater harvesting</td>\n",
       "      <td>rainwater harvesting</td>\n",
       "      <td>surface</td>\n",
       "      <td>communal standpipe</td>\n",
       "      <td>communal standpipe</td>\n",
       "      <td>functional</td>\n",
       "    </tr>\n",
       "    <tr>\n",
       "      <th>2</th>\n",
       "      <td>34310</td>\n",
       "      <td>25.0</td>\n",
       "      <td>2013-02-25</td>\n",
       "      <td>Lottery Club</td>\n",
       "      <td>686</td>\n",
       "      <td>World vision</td>\n",
       "      <td>37.460664</td>\n",
       "      <td>-3.821329</td>\n",
       "      <td>Kwa Mahundi</td>\n",
       "      <td>0</td>\n",
       "      <td>...</td>\n",
       "      <td>soft</td>\n",
       "      <td>good</td>\n",
       "      <td>enough</td>\n",
       "      <td>enough</td>\n",
       "      <td>dam</td>\n",
       "      <td>dam</td>\n",
       "      <td>surface</td>\n",
       "      <td>communal standpipe multiple</td>\n",
       "      <td>communal standpipe</td>\n",
       "      <td>functional</td>\n",
       "    </tr>\n",
       "    <tr>\n",
       "      <th>3</th>\n",
       "      <td>67743</td>\n",
       "      <td>0.0</td>\n",
       "      <td>2013-01-28</td>\n",
       "      <td>Unicef</td>\n",
       "      <td>263</td>\n",
       "      <td>UNICEF</td>\n",
       "      <td>38.486161</td>\n",
       "      <td>-11.155298</td>\n",
       "      <td>Zahanati Ya Nanyumbu</td>\n",
       "      <td>0</td>\n",
       "      <td>...</td>\n",
       "      <td>soft</td>\n",
       "      <td>good</td>\n",
       "      <td>dry</td>\n",
       "      <td>dry</td>\n",
       "      <td>machine dbh</td>\n",
       "      <td>borehole</td>\n",
       "      <td>groundwater</td>\n",
       "      <td>communal standpipe multiple</td>\n",
       "      <td>communal standpipe</td>\n",
       "      <td>non functional</td>\n",
       "    </tr>\n",
       "    <tr>\n",
       "      <th>4</th>\n",
       "      <td>19728</td>\n",
       "      <td>0.0</td>\n",
       "      <td>2011-07-13</td>\n",
       "      <td>Action In A</td>\n",
       "      <td>0</td>\n",
       "      <td>Artisan</td>\n",
       "      <td>31.130847</td>\n",
       "      <td>-1.825359</td>\n",
       "      <td>Shuleni</td>\n",
       "      <td>0</td>\n",
       "      <td>...</td>\n",
       "      <td>soft</td>\n",
       "      <td>good</td>\n",
       "      <td>seasonal</td>\n",
       "      <td>seasonal</td>\n",
       "      <td>rainwater harvesting</td>\n",
       "      <td>rainwater harvesting</td>\n",
       "      <td>surface</td>\n",
       "      <td>communal standpipe</td>\n",
       "      <td>communal standpipe</td>\n",
       "      <td>functional</td>\n",
       "    </tr>\n",
       "  </tbody>\n",
       "</table>\n",
       "<p>5 rows × 41 columns</p>\n",
       "</div>"
      ],
      "text/plain": [
       "      id  amount_tsh date_recorded        funder  gps_height     installer  \\\n",
       "0  69572      6000.0    2011-03-14         Roman        1390         Roman   \n",
       "1   8776         0.0    2013-03-06       Grumeti        1399       GRUMETI   \n",
       "2  34310        25.0    2013-02-25  Lottery Club         686  World vision   \n",
       "3  67743         0.0    2013-01-28        Unicef         263        UNICEF   \n",
       "4  19728         0.0    2011-07-13   Action In A           0       Artisan   \n",
       "\n",
       "   longitude   latitude              wpt_name  num_private  ... water_quality  \\\n",
       "0  34.938093  -9.856322                  none            0  ...          soft   \n",
       "1  34.698766  -2.147466              Zahanati            0  ...          soft   \n",
       "2  37.460664  -3.821329           Kwa Mahundi            0  ...          soft   \n",
       "3  38.486161 -11.155298  Zahanati Ya Nanyumbu            0  ...          soft   \n",
       "4  31.130847  -1.825359               Shuleni            0  ...          soft   \n",
       "\n",
       "  quality_group      quantity  quantity_group                source  \\\n",
       "0          good        enough          enough                spring   \n",
       "1          good  insufficient    insufficient  rainwater harvesting   \n",
       "2          good        enough          enough                   dam   \n",
       "3          good           dry             dry           machine dbh   \n",
       "4          good      seasonal        seasonal  rainwater harvesting   \n",
       "\n",
       "            source_type source_class              waterpoint_type  \\\n",
       "0                spring  groundwater           communal standpipe   \n",
       "1  rainwater harvesting      surface           communal standpipe   \n",
       "2                   dam      surface  communal standpipe multiple   \n",
       "3              borehole  groundwater  communal standpipe multiple   \n",
       "4  rainwater harvesting      surface           communal standpipe   \n",
       "\n",
       "  waterpoint_type_group    status_group  \n",
       "0    communal standpipe      functional  \n",
       "1    communal standpipe      functional  \n",
       "2    communal standpipe      functional  \n",
       "3    communal standpipe  non functional  \n",
       "4    communal standpipe      functional  \n",
       "\n",
       "[5 rows x 41 columns]"
      ]
     },
     "execution_count": 2,
     "metadata": {},
     "output_type": "execute_result"
    }
   ],
   "source": [
    "import pandas as pd\n",
    "\n",
    "# Load datasets\n",
    "train_values = pd.read_csv(\"Training Set Values.csv\")\n",
    "train_labels = pd.read_csv(\"Training Set Labels.csv\")\n",
    "test_values = pd.read_csv(\"Test Set Values.csv\")\n",
    "\n",
    "# Merge training values with labels\n",
    "train_df = pd.merge(train_values, train_labels, on='id')\n",
    "\n",
    "# Preview data\n",
    "print(\"Train shape:\", train_df.shape)\n",
    "print(\"Test shape:\", test_values.shape)\n",
    "train_df.head()\n"
   ]
  },
  {
   "cell_type": "markdown",
   "metadata": {},
   "source": [
    "### Basic Information & Structure"
   ]
  },
  {
   "cell_type": "code",
   "execution_count": 3,
   "metadata": {},
   "outputs": [
    {
     "name": "stdout",
     "output_type": "stream",
     "text": [
      "<class 'pandas.core.frame.DataFrame'>\n",
      "Int64Index: 59400 entries, 0 to 59399\n",
      "Data columns (total 41 columns):\n",
      " #   Column                 Non-Null Count  Dtype  \n",
      "---  ------                 --------------  -----  \n",
      " 0   id                     59400 non-null  int64  \n",
      " 1   amount_tsh             59400 non-null  float64\n",
      " 2   date_recorded          59400 non-null  object \n",
      " 3   funder                 55765 non-null  object \n",
      " 4   gps_height             59400 non-null  int64  \n",
      " 5   installer              55745 non-null  object \n",
      " 6   longitude              59400 non-null  float64\n",
      " 7   latitude               59400 non-null  float64\n",
      " 8   wpt_name               59400 non-null  object \n",
      " 9   num_private            59400 non-null  int64  \n",
      " 10  basin                  59400 non-null  object \n",
      " 11  subvillage             59029 non-null  object \n",
      " 12  region                 59400 non-null  object \n",
      " 13  region_code            59400 non-null  int64  \n",
      " 14  district_code          59400 non-null  int64  \n",
      " 15  lga                    59400 non-null  object \n",
      " 16  ward                   59400 non-null  object \n",
      " 17  population             59400 non-null  int64  \n",
      " 18  public_meeting         56066 non-null  object \n",
      " 19  recorded_by            59400 non-null  object \n",
      " 20  scheme_management      55523 non-null  object \n",
      " 21  scheme_name            31234 non-null  object \n",
      " 22  permit                 56344 non-null  object \n",
      " 23  construction_year      59400 non-null  int64  \n",
      " 24  extraction_type        59400 non-null  object \n",
      " 25  extraction_type_group  59400 non-null  object \n",
      " 26  extraction_type_class  59400 non-null  object \n",
      " 27  management             59400 non-null  object \n",
      " 28  management_group       59400 non-null  object \n",
      " 29  payment                59400 non-null  object \n",
      " 30  payment_type           59400 non-null  object \n",
      " 31  water_quality          59400 non-null  object \n",
      " 32  quality_group          59400 non-null  object \n",
      " 33  quantity               59400 non-null  object \n",
      " 34  quantity_group         59400 non-null  object \n",
      " 35  source                 59400 non-null  object \n",
      " 36  source_type            59400 non-null  object \n",
      " 37  source_class           59400 non-null  object \n",
      " 38  waterpoint_type        59400 non-null  object \n",
      " 39  waterpoint_type_group  59400 non-null  object \n",
      " 40  status_group           59400 non-null  object \n",
      "dtypes: float64(3), int64(7), object(31)\n",
      "memory usage: 19.0+ MB\n"
     ]
    },
    {
     "data": {
      "text/html": [
       "<div>\n",
       "<style scoped>\n",
       "    .dataframe tbody tr th:only-of-type {\n",
       "        vertical-align: middle;\n",
       "    }\n",
       "\n",
       "    .dataframe tbody tr th {\n",
       "        vertical-align: top;\n",
       "    }\n",
       "\n",
       "    .dataframe thead th {\n",
       "        text-align: right;\n",
       "    }\n",
       "</style>\n",
       "<table border=\"1\" class=\"dataframe\">\n",
       "  <thead>\n",
       "    <tr style=\"text-align: right;\">\n",
       "      <th></th>\n",
       "      <th>id</th>\n",
       "      <th>amount_tsh</th>\n",
       "      <th>gps_height</th>\n",
       "      <th>longitude</th>\n",
       "      <th>latitude</th>\n",
       "      <th>num_private</th>\n",
       "      <th>region_code</th>\n",
       "      <th>district_code</th>\n",
       "      <th>population</th>\n",
       "      <th>construction_year</th>\n",
       "    </tr>\n",
       "  </thead>\n",
       "  <tbody>\n",
       "    <tr>\n",
       "      <th>count</th>\n",
       "      <td>59400.000000</td>\n",
       "      <td>59400.000000</td>\n",
       "      <td>59400.000000</td>\n",
       "      <td>59400.000000</td>\n",
       "      <td>5.940000e+04</td>\n",
       "      <td>59400.000000</td>\n",
       "      <td>59400.000000</td>\n",
       "      <td>59400.000000</td>\n",
       "      <td>59400.000000</td>\n",
       "      <td>59400.000000</td>\n",
       "    </tr>\n",
       "    <tr>\n",
       "      <th>mean</th>\n",
       "      <td>37115.131768</td>\n",
       "      <td>317.650385</td>\n",
       "      <td>668.297239</td>\n",
       "      <td>34.077427</td>\n",
       "      <td>-5.706033e+00</td>\n",
       "      <td>0.474141</td>\n",
       "      <td>15.297003</td>\n",
       "      <td>5.629747</td>\n",
       "      <td>179.909983</td>\n",
       "      <td>1300.652475</td>\n",
       "    </tr>\n",
       "    <tr>\n",
       "      <th>std</th>\n",
       "      <td>21453.128371</td>\n",
       "      <td>2997.574558</td>\n",
       "      <td>693.116350</td>\n",
       "      <td>6.567432</td>\n",
       "      <td>2.946019e+00</td>\n",
       "      <td>12.236230</td>\n",
       "      <td>17.587406</td>\n",
       "      <td>9.633649</td>\n",
       "      <td>471.482176</td>\n",
       "      <td>951.620547</td>\n",
       "    </tr>\n",
       "    <tr>\n",
       "      <th>min</th>\n",
       "      <td>0.000000</td>\n",
       "      <td>0.000000</td>\n",
       "      <td>-90.000000</td>\n",
       "      <td>0.000000</td>\n",
       "      <td>-1.164944e+01</td>\n",
       "      <td>0.000000</td>\n",
       "      <td>1.000000</td>\n",
       "      <td>0.000000</td>\n",
       "      <td>0.000000</td>\n",
       "      <td>0.000000</td>\n",
       "    </tr>\n",
       "    <tr>\n",
       "      <th>25%</th>\n",
       "      <td>18519.750000</td>\n",
       "      <td>0.000000</td>\n",
       "      <td>0.000000</td>\n",
       "      <td>33.090347</td>\n",
       "      <td>-8.540621e+00</td>\n",
       "      <td>0.000000</td>\n",
       "      <td>5.000000</td>\n",
       "      <td>2.000000</td>\n",
       "      <td>0.000000</td>\n",
       "      <td>0.000000</td>\n",
       "    </tr>\n",
       "    <tr>\n",
       "      <th>50%</th>\n",
       "      <td>37061.500000</td>\n",
       "      <td>0.000000</td>\n",
       "      <td>369.000000</td>\n",
       "      <td>34.908743</td>\n",
       "      <td>-5.021597e+00</td>\n",
       "      <td>0.000000</td>\n",
       "      <td>12.000000</td>\n",
       "      <td>3.000000</td>\n",
       "      <td>25.000000</td>\n",
       "      <td>1986.000000</td>\n",
       "    </tr>\n",
       "    <tr>\n",
       "      <th>75%</th>\n",
       "      <td>55656.500000</td>\n",
       "      <td>20.000000</td>\n",
       "      <td>1319.250000</td>\n",
       "      <td>37.178387</td>\n",
       "      <td>-3.326156e+00</td>\n",
       "      <td>0.000000</td>\n",
       "      <td>17.000000</td>\n",
       "      <td>5.000000</td>\n",
       "      <td>215.000000</td>\n",
       "      <td>2004.000000</td>\n",
       "    </tr>\n",
       "    <tr>\n",
       "      <th>max</th>\n",
       "      <td>74247.000000</td>\n",
       "      <td>350000.000000</td>\n",
       "      <td>2770.000000</td>\n",
       "      <td>40.345193</td>\n",
       "      <td>-2.000000e-08</td>\n",
       "      <td>1776.000000</td>\n",
       "      <td>99.000000</td>\n",
       "      <td>80.000000</td>\n",
       "      <td>30500.000000</td>\n",
       "      <td>2013.000000</td>\n",
       "    </tr>\n",
       "  </tbody>\n",
       "</table>\n",
       "</div>"
      ],
      "text/plain": [
       "                 id     amount_tsh    gps_height     longitude      latitude  \\\n",
       "count  59400.000000   59400.000000  59400.000000  59400.000000  5.940000e+04   \n",
       "mean   37115.131768     317.650385    668.297239     34.077427 -5.706033e+00   \n",
       "std    21453.128371    2997.574558    693.116350      6.567432  2.946019e+00   \n",
       "min        0.000000       0.000000    -90.000000      0.000000 -1.164944e+01   \n",
       "25%    18519.750000       0.000000      0.000000     33.090347 -8.540621e+00   \n",
       "50%    37061.500000       0.000000    369.000000     34.908743 -5.021597e+00   \n",
       "75%    55656.500000      20.000000   1319.250000     37.178387 -3.326156e+00   \n",
       "max    74247.000000  350000.000000   2770.000000     40.345193 -2.000000e-08   \n",
       "\n",
       "        num_private   region_code  district_code    population  \\\n",
       "count  59400.000000  59400.000000   59400.000000  59400.000000   \n",
       "mean       0.474141     15.297003       5.629747    179.909983   \n",
       "std       12.236230     17.587406       9.633649    471.482176   \n",
       "min        0.000000      1.000000       0.000000      0.000000   \n",
       "25%        0.000000      5.000000       2.000000      0.000000   \n",
       "50%        0.000000     12.000000       3.000000     25.000000   \n",
       "75%        0.000000     17.000000       5.000000    215.000000   \n",
       "max     1776.000000     99.000000      80.000000  30500.000000   \n",
       "\n",
       "       construction_year  \n",
       "count       59400.000000  \n",
       "mean         1300.652475  \n",
       "std           951.620547  \n",
       "min             0.000000  \n",
       "25%             0.000000  \n",
       "50%          1986.000000  \n",
       "75%          2004.000000  \n",
       "max          2013.000000  "
      ]
     },
     "execution_count": 3,
     "metadata": {},
     "output_type": "execute_result"
    }
   ],
   "source": [
    "# Check data types and non-null counts\n",
    "train_df.info()\n",
    "\n",
    "# Summary statistics for numeric columns\n",
    "train_df.describe()\n"
   ]
  },
  {
   "cell_type": "markdown",
   "metadata": {},
   "source": [
    "### Target Variable Analysis"
   ]
  },
  {
   "cell_type": "code",
   "execution_count": 4,
   "metadata": {},
   "outputs": [
    {
     "data": {
      "image/png": "[encoded data removed]",
      "text/plain": [
       "<Figure size 432x288 with 1 Axes>"
      ]
     },
     "metadata": {
      "needs_background": "light"
     },
     "output_type": "display_data"
    },
    {
     "data": {
      "text/plain": [
       "functional                 0.543081\n",
       "non functional             0.384242\n",
       "functional needs repair    0.072677\n",
       "Name: status_group, dtype: float64"
      ]
     },
     "execution_count": 4,
     "metadata": {},
     "output_type": "execute_result"
    }
   ],
   "source": [
    "import matplotlib.pyplot as plt\n",
    "\n",
    "# Target distribution\n",
    "train_df['status_group'].value_counts().plot(kind='bar', color='skyblue')\n",
    "plt.title(\"Distribution of Target Classes\")\n",
    "plt.xlabel(\"Status Group\")\n",
    "plt.ylabel(\"Count\")\n",
    "plt.show()\n",
    "\n",
    "# Display class proportions\n",
    "train_df['status_group'].value_counts(normalize=True)\n"
   ]
  },
  {
   "cell_type": "markdown",
   "metadata": {},
   "source": [
    "##### The target distribution is imbalanced  “functional needs repair” is smaller than the others. We’ll account for this imbalance in model evaluation."
   ]
  },
  {
   "cell_type": "markdown",
   "metadata": {},
   "source": [
    "### Numerical Feature Exploration"
   ]
  },
  {
   "cell_type": "code",
   "execution_count": 5,
   "metadata": {},
   "outputs": [
    {
     "data": {
      "image/png": "[encoded data removed]",
      "text/plain": [
       "<Figure size 1080x720 with 12 Axes>"
      ]
     },
     "metadata": {
      "needs_background": "light"
     },
     "output_type": "display_data"
    }
   ],
   "source": [
    "numeric_cols = train_df.select_dtypes(include=['int64', 'float64']).columns\n",
    "\n",
    "# View some distributions\n",
    "train_df[numeric_cols].hist(figsize=(15, 10), bins=30)\n",
    "plt.suptitle(\"Numeric Feature Distributions\", fontsize=16)\n",
    "plt.show()\n"
   ]
  },
  {
   "cell_type": "markdown",
   "metadata": {},
   "source": [
    "### Categorical Feature Overview"
   ]
  },
  {
   "cell_type": "code",
   "execution_count": 6,
   "metadata": {},
   "outputs": [
    {
     "name": "stdout",
     "output_type": "stream",
     "text": [
      "Number of categorical features: 31\n"
     ]
    },
    {
     "data": {
      "text/plain": [
       "wpt_name           37400\n",
       "subvillage         19287\n",
       "scheme_name         2696\n",
       "installer           2145\n",
       "ward                2092\n",
       "funder              1897\n",
       "date_recorded        356\n",
       "lga                  125\n",
       "region                21\n",
       "extraction_type       18\n",
       "dtype: int64"
      ]
     },
     "execution_count": 6,
     "metadata": {},
     "output_type": "execute_result"
    }
   ],
   "source": [
    "categorical_cols = train_df.select_dtypes(include='object').columns\n",
    "print(\"Number of categorical features:\", len(categorical_cols))\n",
    "train_df[categorical_cols].nunique().sort_values(ascending=False).head(10)\n"
   ]
  },
  {
   "cell_type": "markdown",
   "metadata": {},
   "source": [
    "Features like funder,installer and subvillage have many unique values . We migh group top categories and replace with \"other\""
   ]
  },
  {
   "cell_type": "markdown",
   "metadata": {},
   "source": [
    "### Missing Values"
   ]
  },
  {
   "cell_type": "code",
   "execution_count": 7,
   "metadata": {},
   "outputs": [
    {
     "data": {
      "text/plain": [
       "scheme_name          28166\n",
       "scheme_management     3877\n",
       "installer             3655\n",
       "funder                3635\n",
       "public_meeting        3334\n",
       "permit                3056\n",
       "subvillage             371\n",
       "dtype: int64"
      ]
     },
     "execution_count": 7,
     "metadata": {},
     "output_type": "execute_result"
    }
   ],
   "source": [
    "missing = train_df.isnull().sum()\n",
    "missing = missing[missing > 0].sort_values(ascending=False)\n",
    "missing\n"
   ]
  },
  {
   "cell_type": "markdown",
   "metadata": {},
   "source": [
    "This helps us identify variables with missing or incomplete data.\n",
    "We’ll decide whether to impute, drop, or replace missing values later."
   ]
  },
  {
   "cell_type": "markdown",
   "metadata": {},
   "source": [
    "### Relationship Exploration (Bivariate)"
   ]
  },
  {
   "cell_type": "code",
   "execution_count": 8,
   "metadata": {},
   "outputs": [
    {
     "data": {
      "image/png": "[encoded data removed]",
      "text/plain": [
       "<Figure size 576x360 with 1 Axes>"
      ]
     },
     "metadata": {
      "needs_background": "light"
     },
     "output_type": "display_data"
    },
    {
     "data": {
      "image/png": "[encoded data removed]",
      "text/plain": [
       "<Figure size 576x360 with 1 Axes>"
      ]
     },
     "metadata": {
      "needs_background": "light"
     },
     "output_type": "display_data"
    }
   ],
   "source": [
    "import seaborn as sns\n",
    "\n",
    "# Example relationships\n",
    "plt.figure(figsize=(8,5))\n",
    "sns.boxplot(data=train_df, x='status_group', y='gps_height')\n",
    "plt.title(\"GPS Height vs Status Group\")\n",
    "plt.show()\n",
    "\n",
    "plt.figure(figsize=(8,5))\n",
    "sns.countplot(data=train_df, x='water_quality', hue='status_group')\n",
    "plt.title(\"Water Quality vs Status Group\")\n",
    "plt.show()\n"
   ]
  },
  {
   "cell_type": "markdown",
   "metadata": {},
   "source": [
    "Observation: water quality, construction year, and management type may be important predictors."
   ]
  },
  {
   "cell_type": "markdown",
   "metadata": {},
   "source": [
    "### Summary Of Findings "
   ]
  },
  {
   "cell_type": "markdown",
   "metadata": {},
   "source": [
    "### Key Observations\n",
    "\n",
    "- The dataset contains 59,400+ rows and 40 features.  \n",
    "- The target variable (`status_group`) is **imbalanced**.  \n",
    "- Some numeric features are **highly skewed** and may need transformations.  \n",
    "- Several categorical features have **hundreds of unique values** (e.g., funder, installer).  \n",
    "- There are **redundant features** (like extraction_type variations) that may be simplified.  \n",
    "- Missing data exists in multiple columns, requiring handling strategies.\n"
   ]
  },
  {
   "cell_type": "markdown",
   "metadata": {},
   "source": [
    "## 3. Data Preparation (Cleaning, Feature Engineering, Encoding)\n",
    "\n",
    "Goal: produce a clean, machine-learning-ready dataset while preventing data leakage.\n",
    "I will:\n",
    "- Fix obviously incorrect or zero values (population, construction_year, gps height, amount_tsh).\n",
    "- Create new time-derived features from `date_recorded`.\n",
    "- Create useful engineered features (well age, log-transforms).\n",
    "- Reduce high-cardinality categorical features by grouping rare levels.\n",
    "- Encode categorical variables using `ColumnTransformer` + `OneHotEncoder` (and keep option for target encoding later).\n",
    "- Standard scale numeric features for distance-based models.\n",
    "- Build scikit-learn Pipelines to assure no leakage (fit transformers only on training data).\n",
    "- Provide a small OOP `ModelPipeline` wrapper class to fit, predict and evaluate models consistently.\n"
   ]
  },
  {
   "cell_type": "markdown",
   "metadata": {},
   "source": [
    "### Basic cleaning & feature engineering"
   ]
  },
  {
   "cell_type": "markdown",
   "metadata": {},
   "source": [
    "Before we can clean the dataset, we first load the training data and check the general structure, missing values, and data types."
   ]
  },
  {
   "cell_type": "code",
   "execution_count": 9,
   "metadata": {},
   "outputs": [
    {
     "data": {
      "text/html": [
       "<div>\n",
       "<style scoped>\n",
       "    .dataframe tbody tr th:only-of-type {\n",
       "        vertical-align: middle;\n",
       "    }\n",
       "\n",
       "    .dataframe tbody tr th {\n",
       "        vertical-align: top;\n",
       "    }\n",
       "\n",
       "    .dataframe thead th {\n",
       "        text-align: right;\n",
       "    }\n",
       "</style>\n",
       "<table border=\"1\" class=\"dataframe\">\n",
       "  <thead>\n",
       "    <tr style=\"text-align: right;\">\n",
       "      <th></th>\n",
       "      <th>id</th>\n",
       "      <th>amount_tsh</th>\n",
       "      <th>date_recorded</th>\n",
       "      <th>funder</th>\n",
       "      <th>gps_height</th>\n",
       "      <th>installer</th>\n",
       "      <th>longitude</th>\n",
       "      <th>latitude</th>\n",
       "      <th>wpt_name</th>\n",
       "      <th>num_private</th>\n",
       "      <th>...</th>\n",
       "      <th>water_quality</th>\n",
       "      <th>quality_group</th>\n",
       "      <th>quantity</th>\n",
       "      <th>quantity_group</th>\n",
       "      <th>source</th>\n",
       "      <th>source_type</th>\n",
       "      <th>source_class</th>\n",
       "      <th>waterpoint_type</th>\n",
       "      <th>waterpoint_type_group</th>\n",
       "      <th>status_group</th>\n",
       "    </tr>\n",
       "  </thead>\n",
       "  <tbody>\n",
       "    <tr>\n",
       "      <th>0</th>\n",
       "      <td>69572</td>\n",
       "      <td>6000.0</td>\n",
       "      <td>2011-03-14</td>\n",
       "      <td>Roman</td>\n",
       "      <td>1390</td>\n",
       "      <td>Roman</td>\n",
       "      <td>34.938093</td>\n",
       "      <td>-9.856322</td>\n",
       "      <td>none</td>\n",
       "      <td>0</td>\n",
       "      <td>...</td>\n",
       "      <td>soft</td>\n",
       "      <td>good</td>\n",
       "      <td>enough</td>\n",
       "      <td>enough</td>\n",
       "      <td>spring</td>\n",
       "      <td>spring</td>\n",
       "      <td>groundwater</td>\n",
       "      <td>communal standpipe</td>\n",
       "      <td>communal standpipe</td>\n",
       "      <td>functional</td>\n",
       "    </tr>\n",
       "    <tr>\n",
       "      <th>1</th>\n",
       "      <td>8776</td>\n",
       "      <td>0.0</td>\n",
       "      <td>2013-03-06</td>\n",
       "      <td>Grumeti</td>\n",
       "      <td>1399</td>\n",
       "      <td>GRUMETI</td>\n",
       "      <td>34.698766</td>\n",
       "      <td>-2.147466</td>\n",
       "      <td>Zahanati</td>\n",
       "      <td>0</td>\n",
       "      <td>...</td>\n",
       "      <td>soft</td>\n",
       "      <td>good</td>\n",
       "      <td>insufficient</td>\n",
       "      <td>insufficient</td>\n",
       "      <td>rainwater harvesting</td>\n",
       "      <td>rainwater harvesting</td>\n",
       "      <td>surface</td>\n",
       "      <td>communal standpipe</td>\n",
       "      <td>communal standpipe</td>\n",
       "      <td>functional</td>\n",
       "    </tr>\n",
       "    <tr>\n",
       "      <th>2</th>\n",
       "      <td>34310</td>\n",
       "      <td>25.0</td>\n",
       "      <td>2013-02-25</td>\n",
       "      <td>Lottery Club</td>\n",
       "      <td>686</td>\n",
       "      <td>World vision</td>\n",
       "      <td>37.460664</td>\n",
       "      <td>-3.821329</td>\n",
       "      <td>Kwa Mahundi</td>\n",
       "      <td>0</td>\n",
       "      <td>...</td>\n",
       "      <td>soft</td>\n",
       "      <td>good</td>\n",
       "      <td>enough</td>\n",
       "      <td>enough</td>\n",
       "      <td>dam</td>\n",
       "      <td>dam</td>\n",
       "      <td>surface</td>\n",
       "      <td>communal standpipe multiple</td>\n",
       "      <td>communal standpipe</td>\n",
       "      <td>functional</td>\n",
       "    </tr>\n",
       "    <tr>\n",
       "      <th>3</th>\n",
       "      <td>67743</td>\n",
       "      <td>0.0</td>\n",
       "      <td>2013-01-28</td>\n",
       "      <td>Unicef</td>\n",
       "      <td>263</td>\n",
       "      <td>UNICEF</td>\n",
       "      <td>38.486161</td>\n",
       "      <td>-11.155298</td>\n",
       "      <td>Zahanati Ya Nanyumbu</td>\n",
       "      <td>0</td>\n",
       "      <td>...</td>\n",
       "      <td>soft</td>\n",
       "      <td>good</td>\n",
       "      <td>dry</td>\n",
       "      <td>dry</td>\n",
       "      <td>machine dbh</td>\n",
       "      <td>borehole</td>\n",
       "      <td>groundwater</td>\n",
       "      <td>communal standpipe multiple</td>\n",
       "      <td>communal standpipe</td>\n",
       "      <td>non functional</td>\n",
       "    </tr>\n",
       "    <tr>\n",
       "      <th>4</th>\n",
       "      <td>19728</td>\n",
       "      <td>0.0</td>\n",
       "      <td>2011-07-13</td>\n",
       "      <td>Action In A</td>\n",
       "      <td>0</td>\n",
       "      <td>Artisan</td>\n",
       "      <td>31.130847</td>\n",
       "      <td>-1.825359</td>\n",
       "      <td>Shuleni</td>\n",
       "      <td>0</td>\n",
       "      <td>...</td>\n",
       "      <td>soft</td>\n",
       "      <td>good</td>\n",
       "      <td>seasonal</td>\n",
       "      <td>seasonal</td>\n",
       "      <td>rainwater harvesting</td>\n",
       "      <td>rainwater harvesting</td>\n",
       "      <td>surface</td>\n",
       "      <td>communal standpipe</td>\n",
       "      <td>communal standpipe</td>\n",
       "      <td>functional</td>\n",
       "    </tr>\n",
       "  </tbody>\n",
       "</table>\n",
       "<p>5 rows × 41 columns</p>\n",
       "</div>"
      ],
      "text/plain": [
       "      id  amount_tsh date_recorded        funder  gps_height     installer  \\\n",
       "0  69572      6000.0    2011-03-14         Roman        1390         Roman   \n",
       "1   8776         0.0    2013-03-06       Grumeti        1399       GRUMETI   \n",
       "2  34310        25.0    2013-02-25  Lottery Club         686  World vision   \n",
       "3  67743         0.0    2013-01-28        Unicef         263        UNICEF   \n",
       "4  19728         0.0    2011-07-13   Action In A           0       Artisan   \n",
       "\n",
       "   longitude   latitude              wpt_name  num_private  ... water_quality  \\\n",
       "0  34.938093  -9.856322                  none            0  ...          soft   \n",
       "1  34.698766  -2.147466              Zahanati            0  ...          soft   \n",
       "2  37.460664  -3.821329           Kwa Mahundi            0  ...          soft   \n",
       "3  38.486161 -11.155298  Zahanati Ya Nanyumbu            0  ...          soft   \n",
       "4  31.130847  -1.825359               Shuleni            0  ...          soft   \n",
       "\n",
       "  quality_group      quantity  quantity_group                source  \\\n",
       "0          good        enough          enough                spring   \n",
       "1          good  insufficient    insufficient  rainwater harvesting   \n",
       "2          good        enough          enough                   dam   \n",
       "3          good           dry             dry           machine dbh   \n",
       "4          good      seasonal        seasonal  rainwater harvesting   \n",
       "\n",
       "            source_type source_class              waterpoint_type  \\\n",
       "0                spring  groundwater           communal standpipe   \n",
       "1  rainwater harvesting      surface           communal standpipe   \n",
       "2                   dam      surface  communal standpipe multiple   \n",
       "3              borehole  groundwater  communal standpipe multiple   \n",
       "4  rainwater harvesting      surface           communal standpipe   \n",
       "\n",
       "  waterpoint_type_group    status_group  \n",
       "0    communal standpipe      functional  \n",
       "1    communal standpipe      functional  \n",
       "2    communal standpipe      functional  \n",
       "3    communal standpipe  non functional  \n",
       "4    communal standpipe      functional  \n",
       "\n",
       "[5 rows x 41 columns]"
      ]
     },
     "execution_count": 9,
     "metadata": {},
     "output_type": "execute_result"
    }
   ],
   "source": [
    "import pandas as pd\n",
    "\n",
    "# Load datasets\n",
    "train_values = pd.read_csv('Training Set Values.csv')\n",
    "train_labels = pd.read_csv('Training Set Labels.csv')\n",
    "\n",
    "# Merge features and target labels into a single dataframe\n",
    "df = train_values.merge(train_labels, on='id')\n",
    "\n",
    "# Preview data\n",
    "df.head()\n"
   ]
  },
  {
   "cell_type": "markdown",
   "metadata": {},
   "source": [
    "#### Handle missing and invalid population values"
   ]
  },
  {
   "cell_type": "markdown",
   "metadata": {},
   "source": [
    "Some wells have a population value of 0, which is unrealistic and likely represents missing data. We’ll replace zeros with NaN and impute them using the median."
   ]
  },
  {
   "cell_type": "code",
   "execution_count": 10,
   "metadata": {},
   "outputs": [],
   "source": [
    "import numpy as np\n",
    "\n",
    "# Replace population zeros with NaN\n",
    "df['population'] = df['population'].replace(0, np.nan)\n",
    "\n",
    "# Impute missing population with median\n",
    "df['population'] = df['population'].fillna(df['population'].median())\n"
   ]
  },
  {
   "cell_type": "markdown",
   "metadata": {},
   "source": [
    "#### Clean and impute construction year"
   ]
  },
  {
   "cell_type": "code",
   "execution_count": 11,
   "metadata": {},
   "outputs": [],
   "source": [
    "df['construction_year'] = df['construction_year'].replace(0, np.nan)\n",
    "df['construction_year'] = df['construction_year'].fillna(df['construction_year'].median())\n"
   ]
  },
  {
   "cell_type": "markdown",
   "metadata": {},
   "source": [
    "### Clean GPS height\n",
    "\n",
    "Some GPS heights are zero or negative, which are invalid. We’ll replace those with the median height to maintain spatial consistency."
   ]
  },
  {
   "cell_type": "code",
   "execution_count": 12,
   "metadata": {},
   "outputs": [],
   "source": [
    "df['gps_height'] = df['gps_height'].apply(lambda x: np.nan if x <= 0 else x)\n",
    "df['gps_height'] = df['gps_height'].fillna(df['gps_height'].median())\n"
   ]
  },
  {
   "cell_type": "markdown",
   "metadata": {},
   "source": [
    "### Extract date features\n",
    "\n",
    "The date_recorded column can be broken down to get the record year. We’ll also calculate the well age as the difference between record year and construction year."
   ]
  },
  {
   "cell_type": "code",
   "execution_count": 13,
   "metadata": {},
   "outputs": [],
   "source": [
    "df['date_recorded'] = pd.to_datetime(df['date_recorded'])\n",
    "df['record_year'] = df['date_recorded'].dt.year\n",
    "df['well_age'] = df['record_year'] - df['construction_year']\n",
    "\n",
    "# Fix negative or unrealistic ages\n",
    "df['well_age'] = df['well_age'].clip(lower=0)\n"
   ]
  },
  {
   "cell_type": "markdown",
   "metadata": {},
   "source": [
    "### Encode target variable\n",
    "\n",
    "The target column status_group is categorical. We’ll encode it numerically for modeling."
   ]
  },
  {
   "cell_type": "code",
   "execution_count": 14,
   "metadata": {},
   "outputs": [],
   "source": [
    "from sklearn.preprocessing import LabelEncoder\n",
    "\n",
    "le = LabelEncoder()\n",
    "df['status_group_encoded'] = le.fit_transform(df['status_group'])\n"
   ]
  },
  {
   "cell_type": "markdown",
   "metadata": {},
   "source": [
    "### Quick verification\n",
    "\n",
    "We’ll verify that the cleaned dataset no longer has invalid or missing values in key features"
   ]
  },
  {
   "cell_type": "code",
   "execution_count": 15,
   "metadata": {},
   "outputs": [
    {
     "data": {
      "text/html": [
       "<div>\n",
       "<style scoped>\n",
       "    .dataframe tbody tr th:only-of-type {\n",
       "        vertical-align: middle;\n",
       "    }\n",
       "\n",
       "    .dataframe tbody tr th {\n",
       "        vertical-align: top;\n",
       "    }\n",
       "\n",
       "    .dataframe thead th {\n",
       "        text-align: right;\n",
       "    }\n",
       "</style>\n",
       "<table border=\"1\" class=\"dataframe\">\n",
       "  <thead>\n",
       "    <tr style=\"text-align: right;\">\n",
       "      <th></th>\n",
       "      <th>population</th>\n",
       "      <th>construction_year</th>\n",
       "      <th>gps_height</th>\n",
       "      <th>well_age</th>\n",
       "    </tr>\n",
       "  </thead>\n",
       "  <tbody>\n",
       "    <tr>\n",
       "      <th>count</th>\n",
       "      <td>59400.000000</td>\n",
       "      <td>59400.000000</td>\n",
       "      <td>59400.000000</td>\n",
       "      <td>59400.000000</td>\n",
       "    </tr>\n",
       "    <tr>\n",
       "      <th>mean</th>\n",
       "      <td>233.902407</td>\n",
       "      <td>1997.925202</td>\n",
       "      <td>1109.696330</td>\n",
       "      <td>13.997071</td>\n",
       "    </tr>\n",
       "    <tr>\n",
       "      <th>std</th>\n",
       "      <td>456.126443</td>\n",
       "      <td>10.179591</td>\n",
       "      <td>471.186468</td>\n",
       "      <td>10.259740</td>\n",
       "    </tr>\n",
       "    <tr>\n",
       "      <th>min</th>\n",
       "      <td>1.000000</td>\n",
       "      <td>1960.000000</td>\n",
       "      <td>1.000000</td>\n",
       "      <td>0.000000</td>\n",
       "    </tr>\n",
       "    <tr>\n",
       "      <th>25%</th>\n",
       "      <td>100.000000</td>\n",
       "      <td>1996.000000</td>\n",
       "      <td>995.000000</td>\n",
       "      <td>8.000000</td>\n",
       "    </tr>\n",
       "    <tr>\n",
       "      <th>50%</th>\n",
       "      <td>150.000000</td>\n",
       "      <td>2000.000000</td>\n",
       "      <td>1194.000000</td>\n",
       "      <td>11.000000</td>\n",
       "    </tr>\n",
       "    <tr>\n",
       "      <th>75%</th>\n",
       "      <td>215.000000</td>\n",
       "      <td>2004.000000</td>\n",
       "      <td>1319.250000</td>\n",
       "      <td>16.000000</td>\n",
       "    </tr>\n",
       "    <tr>\n",
       "      <th>max</th>\n",
       "      <td>30500.000000</td>\n",
       "      <td>2013.000000</td>\n",
       "      <td>2770.000000</td>\n",
       "      <td>53.000000</td>\n",
       "    </tr>\n",
       "  </tbody>\n",
       "</table>\n",
       "</div>"
      ],
      "text/plain": [
       "         population  construction_year    gps_height      well_age\n",
       "count  59400.000000       59400.000000  59400.000000  59400.000000\n",
       "mean     233.902407        1997.925202   1109.696330     13.997071\n",
       "std      456.126443          10.179591    471.186468     10.259740\n",
       "min        1.000000        1960.000000      1.000000      0.000000\n",
       "25%      100.000000        1996.000000    995.000000      8.000000\n",
       "50%      150.000000        2000.000000   1194.000000     11.000000\n",
       "75%      215.000000        2004.000000   1319.250000     16.000000\n",
       "max    30500.000000        2013.000000   2770.000000     53.000000"
      ]
     },
     "execution_count": 15,
     "metadata": {},
     "output_type": "execute_result"
    }
   ],
   "source": [
    "df[['population', 'construction_year', 'gps_height', 'well_age']].describe()\n"
   ]
  },
  {
   "cell_type": "markdown",
   "metadata": {},
   "source": [
    "### Reduce high-cardinality categories (group rare values)\n",
    "\n",
    "In this step, I will reduce high-cardinality categorical variables such as *funder*, *installer*, and *subvillage* by grouping infrequent categories into a single category labeled “Other.” To help simplify the dataset by minimizing noise from rare categories that provide little predictive value and to also reduce dimensionality, improve model performance, and ensure that one-hot encoding later in the pipeline remains efficient and interpretable.\n",
    "\n"
   ]
  },
  {
   "cell_type": "code",
   "execution_count": 16,
   "metadata": {},
   "outputs": [
    {
     "data": {
      "text/html": [
       "<div>\n",
       "<style scoped>\n",
       "    .dataframe tbody tr th:only-of-type {\n",
       "        vertical-align: middle;\n",
       "    }\n",
       "\n",
       "    .dataframe tbody tr th {\n",
       "        vertical-align: top;\n",
       "    }\n",
       "\n",
       "    .dataframe thead th {\n",
       "        text-align: right;\n",
       "    }\n",
       "</style>\n",
       "<table border=\"1\" class=\"dataframe\">\n",
       "  <thead>\n",
       "    <tr style=\"text-align: right;\">\n",
       "      <th></th>\n",
       "      <th>funder</th>\n",
       "      <th>funder_grouped</th>\n",
       "    </tr>\n",
       "  </thead>\n",
       "  <tbody>\n",
       "    <tr>\n",
       "      <th>0</th>\n",
       "      <td>Roman</td>\n",
       "      <td>Other</td>\n",
       "    </tr>\n",
       "    <tr>\n",
       "      <th>1</th>\n",
       "      <td>Grumeti</td>\n",
       "      <td>Other</td>\n",
       "    </tr>\n",
       "    <tr>\n",
       "      <th>2</th>\n",
       "      <td>Lottery Club</td>\n",
       "      <td>Other</td>\n",
       "    </tr>\n",
       "    <tr>\n",
       "      <th>3</th>\n",
       "      <td>Unicef</td>\n",
       "      <td>Unicef</td>\n",
       "    </tr>\n",
       "    <tr>\n",
       "      <th>4</th>\n",
       "      <td>Action In A</td>\n",
       "      <td>Other</td>\n",
       "    </tr>\n",
       "  </tbody>\n",
       "</table>\n",
       "</div>"
      ],
      "text/plain": [
       "         funder funder_grouped\n",
       "0         Roman          Other\n",
       "1       Grumeti          Other\n",
       "2  Lottery Club          Other\n",
       "3        Unicef         Unicef\n",
       "4   Action In A          Other"
      ]
     },
     "execution_count": 16,
     "metadata": {},
     "output_type": "execute_result"
    }
   ],
   "source": [
    "# Function to group rare categories into \"Other\"\n",
    "def group_rare(series, top_n=20, other_name='Other'):\n",
    "    top = series.value_counts().index[:top_n]\n",
    "    return series.where(series.isin(top), other_name)\n",
    "\n",
    "# Example: group `funder` and `installer` to top-20 categories\n",
    "df['funder_grouped'] = group_rare(df['funder'], top_n=20)\n",
    "df['installer_grouped'] = group_rare(df['installer'], top_n=30)\n",
    "df['subvillage_grouped'] = group_rare(df['subvillage'], top_n=50)  # be conservative\n",
    "\n",
    "# confirm grouped uniques\n",
    "df[['funder', 'funder_grouped']].head()\n"
   ]
  },
  {
   "cell_type": "markdown",
   "metadata": {},
   "source": [
    "### Feature set for modeling\n",
    "\n",
    "In this step, I will define the key features that will be used for modeling the functionality status of water wells. These features include both numeric and categorical variables that describe critical aspects such as geographic coordinates, construction details, management practices, and water source characteristics. I will also include engineered features like logarithmic transformations and grouped categorical variables to enhance model interpretability and stability. Finally, I will separate the predictor variables (*X_df*) from the target variable (*y*) and ensure that only valid columns are retained, preparing a clean dataset ready for modeling.\n"
   ]
  },
  {
   "cell_type": "code",
   "execution_count": 17,
   "metadata": {},
   "outputs": [
    {
     "data": {
      "text/plain": [
       "((59400, 22), (59400,))"
      ]
     },
     "execution_count": 17,
     "metadata": {},
     "output_type": "execute_result"
    }
   ],
   "source": [
    "\n",
    "feature_cols = [\n",
    "    'amount_tsh', 'log_amount_tsh', 'gps_height', 'log_population', 'population_missing_flag',\n",
    "    'well_age', 'log_well_age', 'longitude', 'latitude',\n",
    "    'extraction_type', 'extraction_type_group', 'management', 'management_group',\n",
    "    'payment', 'water_quality', 'quality_group', 'quantity', 'quantity_group',\n",
    "    'source', 'source_type', 'waterpoint_type', 'waterpoint_type_group',\n",
    "    'funder_grouped', 'installer_grouped', 'region', 'district_code'\n",
    "]\n",
    "\n",
    "# keep only columns that exist (defensive)\n",
    "feature_cols = [c for c in feature_cols if c in df.columns]\n",
    "X_df = df[feature_cols].copy()\n",
    "y = df['status_group_encoded']  # numeric label\n",
    "X_df.shape, y.shape\n"
   ]
  },
  {
   "cell_type": "markdown",
   "metadata": {},
   "source": [
    "### ColumnTransformer + Pipeline (encoding, scaling)\n",
    "In this step, I will prepare the dataset for machine learning by separating numeric and categorical features, ensuring each type is processed appropriately. Numeric features will be standardized using **StandardScaler** to normalize their scales, while categorical features will be encoded using **OneHotEncoder** to convert them into numerical form. "
   ]
  },
  {
   "cell_type": "code",
   "execution_count": 18,
   "metadata": {},
   "outputs": [
    {
     "data": {
      "text/plain": [
       "(['amount_tsh', 'gps_height', 'well_age', 'longitude', 'latitude'],\n",
       " ['extraction_type',\n",
       "  'extraction_type_group',\n",
       "  'management',\n",
       "  'management_group',\n",
       "  'payment',\n",
       "  'water_quality',\n",
       "  'quality_group',\n",
       "  'quantity',\n",
       "  'quantity_group',\n",
       "  'source'])"
      ]
     },
     "execution_count": 18,
     "metadata": {},
     "output_type": "execute_result"
    }
   ],
   "source": [
    "from sklearn.pipeline import Pipeline\n",
    "from sklearn.compose import ColumnTransformer\n",
    "from sklearn.preprocessing import OneHotEncoder, StandardScaler\n",
    "from sklearn.model_selection import train_test_split\n",
    "\n",
    "# Identify numeric and categorical columns within chosen features\n",
    "numeric_features = [c for c in feature_cols if X_df[c].dtype in [np.dtype('int64'), np.dtype('float64')]]\n",
    "# treat some numeric-like categorical as categorical (e.g., district_code if many codes)\n",
    "if 'district_code' in numeric_features:\n",
    "    numeric_features.remove('district_code')\n",
    "\n",
    "categorical_features = [c for c in feature_cols if c not in numeric_features]\n",
    "\n",
    "numeric_features, categorical_features[:10]\n"
   ]
  },
  {
   "cell_type": "code",
   "execution_count": 19,
   "metadata": {},
   "outputs": [],
   "source": [
    "# Build transformers\n",
    "numeric_transformer = Pipeline(steps=[\n",
    "    ('scaler', StandardScaler())\n",
    "])\n",
    "\n",
    "categorical_transformer = Pipeline(steps=[\n",
    "    ('onehot', OneHotEncoder(handle_unknown='ignore', sparse=False))\n",
    "])\n",
    "\n",
    "preprocessor = ColumnTransformer(\n",
    "    transformers=[\n",
    "        ('num', numeric_transformer, numeric_features),\n",
    "        ('cat', categorical_transformer, categorical_features)\n",
    "    ],\n",
    "    remainder='drop'  # drop other columns\n",
    ")\n"
   ]
  },
  {
   "cell_type": "markdown",
   "metadata": {},
   "source": [
    "### Train test split\n",
    "In this step, I will split the dataset into training and testing subsets to evaluate the model’s performance on unseen data. Using an 80-20 split, 80% of the data will be used for training, while 20% will be reserved for testing. "
   ]
  },
  {
   "cell_type": "code",
   "execution_count": 20,
   "metadata": {},
   "outputs": [
    {
     "name": "stdout",
     "output_type": "stream",
     "text": [
      "Train: (47520, 22) Test: (11880, 22)\n"
     ]
    }
   ],
   "source": [
    "X_train, X_test, y_train, y_test = train_test_split(\n",
    "    X_df, y, test_size=0.20, random_state=42, stratify=y\n",
    ")\n",
    "\n",
    "print(\"Train:\", X_train.shape, \"Test:\", X_test.shape)\n"
   ]
  },
  {
   "cell_type": "markdown",
   "metadata": {},
   "source": [
    "### Testing to build a pipeline for Logistic Regression (baseline) and fit\n",
    "In this step, I will build and train a **baseline Logistic Regression model** using a pipeline that integrates preprocessing and classification. The **pipeline** ensures that data transformations, such as encoding and scaling, are automatically applied before model training. The Logistic Regression model is configured with `class_weight='balanced'` to handle class imbalance and `max_iter=1000` to ensure convergence. After fitting the model to the training data, I evaluate its performance on both training and test sets to assess its baseline accuracy.\n"
   ]
  },
  {
   "cell_type": "code",
   "execution_count": 21,
   "metadata": {},
   "outputs": [
    {
     "name": "stdout",
     "output_type": "stream",
     "text": [
      "Train score: 0.7190446127946128\n",
      "Test score : 0.7146464646464646\n"
     ]
    }
   ],
   "source": [
    "from sklearn.linear_model import LogisticRegression\n",
    "\n",
    "log_pipe = Pipeline(steps=[\n",
    "    ('preprocessor', preprocessor),\n",
    "    ('clf', LogisticRegression(max_iter=1000, class_weight='balanced', solver='liblinear'))\n",
    "])\n",
    "\n",
    "# Fit baseline\n",
    "log_pipe.fit(X_train, y_train)\n",
    "\n",
    "# Quick training score\n",
    "print(\"Train score:\", log_pipe.score(X_train, y_train))\n",
    "print(\"Test score :\", log_pipe.score(X_test, y_test))\n"
   ]
  },
  {
   "cell_type": "markdown",
   "metadata": {},
   "source": [
    "### Quick Regression Diagnostics (VIF)\n",
    "In this step, I will perform a **Quick Regression Diagnostic** using the **Variance Inflation Factor (VIF)** to detect multicollinearity among the numeric features.  Since VIF requires only numeric data, I compute it on a subset of numeric features after filling missing values. This diagnostic helps ensure the stability and reliability of our model by identifying features that may need to be removed or transformed to improve predictive performance and interpretability in our water pump functionality classification project.\n"
   ]
  },
  {
   "cell_type": "code",
   "execution_count": 22,
   "metadata": {},
   "outputs": [
    {
     "data": {
      "text/html": [
       "<div>\n",
       "<style scoped>\n",
       "    .dataframe tbody tr th:only-of-type {\n",
       "        vertical-align: middle;\n",
       "    }\n",
       "\n",
       "    .dataframe tbody tr th {\n",
       "        vertical-align: top;\n",
       "    }\n",
       "\n",
       "    .dataframe thead th {\n",
       "        text-align: right;\n",
       "    }\n",
       "</style>\n",
       "<table border=\"1\" class=\"dataframe\">\n",
       "  <thead>\n",
       "    <tr style=\"text-align: right;\">\n",
       "      <th></th>\n",
       "      <th>feature</th>\n",
       "      <th>VIF</th>\n",
       "    </tr>\n",
       "  </thead>\n",
       "  <tbody>\n",
       "    <tr>\n",
       "      <th>0</th>\n",
       "      <td>const</td>\n",
       "      <td>41.687010</td>\n",
       "    </tr>\n",
       "    <tr>\n",
       "      <th>5</th>\n",
       "      <td>latitude</td>\n",
       "      <td>1.256785</td>\n",
       "    </tr>\n",
       "    <tr>\n",
       "      <th>4</th>\n",
       "      <td>longitude</td>\n",
       "      <td>1.241145</td>\n",
       "    </tr>\n",
       "    <tr>\n",
       "      <th>2</th>\n",
       "      <td>gps_height</td>\n",
       "      <td>1.074022</td>\n",
       "    </tr>\n",
       "    <tr>\n",
       "      <th>1</th>\n",
       "      <td>amount_tsh</td>\n",
       "      <td>1.003824</td>\n",
       "    </tr>\n",
       "    <tr>\n",
       "      <th>3</th>\n",
       "      <td>well_age</td>\n",
       "      <td>1.003541</td>\n",
       "    </tr>\n",
       "  </tbody>\n",
       "</table>\n",
       "</div>"
      ],
      "text/plain": [
       "      feature        VIF\n",
       "0       const  41.687010\n",
       "5    latitude   1.256785\n",
       "4   longitude   1.241145\n",
       "2  gps_height   1.074022\n",
       "1  amount_tsh   1.003824\n",
       "3    well_age   1.003541"
      ]
     },
     "execution_count": 22,
     "metadata": {},
     "output_type": "execute_result"
    }
   ],
   "source": [
    "# Note: VIF requires numeric-only dataframe. We'll compute VIF on a subset of numeric features.\n",
    "import statsmodels.api as sm\n",
    "from statsmodels.stats.outliers_influence import variance_inflation_factor\n",
    "\n",
    "num_for_vif = X_train[numeric_features].copy()\n",
    "num_for_vif = num_for_vif.fillna(num_for_vif.median())\n",
    "\n",
    "# add constant\n",
    "num_for_vif_const = sm.add_constant(num_for_vif)\n",
    "vif_data = pd.DataFrame()\n",
    "vif_data[\"feature\"] = num_for_vif_const.columns\n",
    "vif_data[\"VIF\"] = [variance_inflation_factor(num_for_vif_const.values, i) \n",
    "                   for i in range(num_for_vif_const.shape[1])]\n",
    "vif_data.sort_values(\"VIF\", ascending=False).head(10)\n"
   ]
  },
  {
   "cell_type": "markdown",
   "metadata": {},
   "source": [
    "In the next step, I will **save the preprocessor and baseline pipeline** for future use. \n"
   ]
  },
  {
   "cell_type": "code",
   "execution_count": 23,
   "metadata": {},
   "outputs": [
    {
     "name": "stdout",
     "output_type": "stream",
     "text": [
      "✅ Preprocessor and baseline logistic regression model saved successfully.\n"
     ]
    }
   ],
   "source": [
    "# Save preprocessor and baseline pipeline\n",
    "import os\n",
    "import joblib  # \n",
    "# Create directory to store models if it doesn't exist\n",
    "os.makedirs(\"models\", exist_ok=True)\n",
    "\n",
    "# Save both the preprocessing pipeline and the trained logistic regression model\n",
    "joblib.dump(preprocessor, \"models/preprocessor.pkl\")\n",
    "joblib.dump(log_pipe, \"models/log_pipe_full.pkl\")\n",
    "\n",
    "print(\"✅ Preprocessor and baseline logistic regression model saved successfully.\")\n"
   ]
  },
  {
   "cell_type": "markdown",
   "metadata": {},
   "source": [
    "# Modeling "
   ]
  },
  {
   "cell_type": "markdown",
   "metadata": {},
   "source": [
    "### Evaluate Baseline Logistic Regression Model\n",
    "\n",
    "In this step, I will evaluate the performance of our baseline logistic regression model, which was trained to predict whether a water well in Tanzania is functional, functional but needs repair, or non-functional.\n",
    "The logistic regression model will help us understand how different factors  such as water source, extraction type, management system, and well age  influence the operational status of a well.\n",
    "\n"
   ]
  },
  {
   "cell_type": "code",
   "execution_count": 24,
   "metadata": {},
   "outputs": [
    {
     "name": "stdout",
     "output_type": "stream",
     "text": [
      "Classification report (test set):\n",
      "\n",
      "                         precision    recall  f1-score   support\n",
      "\n",
      "             functional       0.76      0.80      0.78      6452\n",
      "functional needs repair       0.25      0.34      0.29       863\n",
      "         non functional       0.78      0.66      0.72      4565\n",
      "\n",
      "               accuracy                           0.71     11880\n",
      "              macro avg       0.60      0.60      0.59     11880\n",
      "           weighted avg       0.73      0.71      0.72     11880\n",
      "\n"
     ]
    },
    {
     "data": {
      "image/png": "[encoded data removed]",
      "text/plain": [
       "<Figure size 432x288 with 2 Axes>"
      ]
     },
     "metadata": {
      "needs_background": "light"
     },
     "output_type": "display_data"
    },
    {
     "name": "stdout",
     "output_type": "stream",
     "text": [
      "5-fold CV macro F1 scores: [0.60626882 0.5991355  0.59711834 0.59898573 0.60309844]\n",
      "CV macro F1 mean: 0.6009 ± 0.0033\n"
     ]
    }
   ],
   "source": [
    "# Evaluate baseline logistic pipeline: classification report, confusion matrix, CV\n",
    "from sklearn.metrics import classification_report, confusion_matrix, ConfusionMatrixDisplay, f1_score\n",
    "from sklearn.model_selection import cross_val_score, StratifiedKFold\n",
    "\n",
    "# predictions on holdout test set\n",
    "y_pred = log_pipe.predict(X_test)\n",
    "\n",
    "# classification report (mapped to original labels)\n",
    "print(\"Classification report (test set):\\n\")\n",
    "print(classification_report(y_test, y_pred, target_names=le.classes_))\n",
    "\n",
    "# confusion matrix plot\n",
    "cm = confusion_matrix(y_test, y_pred)\n",
    "disp = ConfusionMatrixDisplay(confusion_matrix=cm, display_labels=le.classes_)\n",
    "disp.plot(cmap=\"Blues\", xticks_rotation=45)\n",
    "plt.title(\"Logistic Baseline - Confusion Matrix\")\n",
    "plt.show()\n",
    "\n",
    "# cross-validated macro F1 (stratified)\n",
    "cv = StratifiedKFold(n_splits=5, shuffle=True, random_state=42)\n",
    "cv_scores = cross_val_score(log_pipe, X_df, y, cv=cv, scoring='f1_macro', n_jobs=-1)\n",
    "print(\"5-fold CV macro F1 scores:\", cv_scores)\n",
    "print(\"CV macro F1 mean: {:.4f} ± {:.4f}\".format(cv_scores.mean(), cv_scores.std()))\n"
   ]
  },
  {
   "cell_type": "markdown",
   "metadata": {},
   "source": [
    "### Results Interpretation — Baseline Logistic Regression\n",
    "\n",
    "Our logistic regression model achieved 72% overall accuracy, which is a solid baseline for a multi-class classification problem. \n",
    "\n",
    "##### Functional Wells\n",
    "\n",
    "Precision (0.77) means that when the model predicts a well is functional, it’s correct about 77% of the time.\n",
    "\n",
    "Recall (0.80) shows that 80% of truly functional wells were correctly identified.\n",
    "This helps confirm which areas likely have reliable water access.\n",
    "\n",
    "##### Functional Needs Repair\n",
    "\n",
    "Precision (0.27) and Recall (0.37) are relatively low.\n",
    "This class is underrepresented in the dataset (only ~7%), which causes class imbalance issues.\n",
    "Improving this is important — these wells are still usable but vulnerable, and predicting them correctly could help schedule preventive maintenance before total failure.\n",
    "\n",
    "##### Non-Functional Wells\n",
    "\n",
    "Precision (0.78) and Recall (0.67) are encouraging.\n",
    "The model successfully identifies many non-functional wells (high recall) and doesn’t over-predict failures (good precision).\n",
    "This is critical since missing a non-functional well (false negative) means a community might continue without access to clean water.\n",
    "\n",
    "##### Overall Summary\n",
    "\n",
    "The macro F1-score (0.60) gives a balanced measure across all three classes.\n",
    "\n",
    "This score shows that while the model handles “functional” and “non-functional” wells reasonably well, it struggles with “functional needs repair.”\n",
    "We’ll aim to improve this later using techniques like class rebalancing, feature interactions, or non-linear models (e.g., Decision Trees or Ensembles)."
   ]
  },
  {
   "cell_type": "markdown",
   "metadata": {},
   "source": [
    "## ROC Curve and AUC Analysis\n",
    "\n",
    "While accuracy gives an overall performance snapshot, it doesn’t show how well the model distinguishes between classes especially important for imbalanced datasets like ours.\n",
    "\n",
    "For our case:\n",
    "\n",
    "We want to ensure that the model is confident when flagging a well as “non-functional.”\n",
    "\n",
    "A high AUC (Area Under Curve) means the model can better rank wells by their likelihood of being functional or failing crucial for prioritizing field inspections and maintenance."
   ]
  },
  {
   "cell_type": "code",
   "execution_count": 25,
   "metadata": {},
   "outputs": [
    {
     "data": {
      "image/png": "[encoded data removed]",
      "text/plain": [
       "<Figure size 576x432 with 1 Axes>"
      ]
     },
     "metadata": {
      "needs_background": "light"
     },
     "output_type": "display_data"
    },
    {
     "name": "stdout",
     "output_type": "stream",
     "text": [
      "Macro AUC: 0.829\n",
      "Weighted AUC: 0.838\n"
     ]
    }
   ],
   "source": [
    "from sklearn.metrics import roc_curve, auc, roc_auc_score\n",
    "from sklearn.preprocessing import label_binarize\n",
    "import matplotlib.pyplot as plt\n",
    "import numpy as np\n",
    "\n",
    "# Confirm class alignment\n",
    "classes = log_pipe.classes_\n",
    "y_test_bin = label_binarize(y_test, classes=classes)\n",
    "y_pred_proba = log_pipe.predict_proba(X_test)\n",
    "\n",
    "# Compute ROC curves for valid classes\n",
    "fpr, tpr, roc_auc = {}, {}, {}\n",
    "for i, cls in enumerate(classes):\n",
    "    if len(np.unique(y_test_bin[:, i])) < 2:  # Skip missing classes\n",
    "        continue\n",
    "    fpr[i], tpr[i], _ = roc_curve(y_test_bin[:, i], y_pred_proba[:, i])\n",
    "    roc_auc[i] = auc(fpr[i], tpr[i])\n",
    "\n",
    "# Plot\n",
    "plt.figure(figsize=(8, 6))\n",
    "for i, color in zip(roc_auc.keys(), ['blue', 'orange', 'red']):\n",
    "    plt.plot(fpr[i], tpr[i], color=color, label=f'{classes[i]} (AUC={roc_auc[i]:.2f})')\n",
    "plt.plot([0, 1], [0, 1], 'k--')\n",
    "plt.title('ROC Curves – Eat’er Wells Logistic Model')\n",
    "plt.xlabel('False Positive Rate'); plt.ylabel('True Positive Rate')\n",
    "plt.legend(); plt.show()\n",
    "\n",
    "# Compute overall AUC\n",
    "macro_auc = roc_auc_score(y_test_bin, y_pred_proba, average='macro', multi_class='ovr')\n",
    "weighted_auc = roc_auc_score(y_test_bin, y_pred_proba, average='weighted', multi_class='ovr')\n",
    "\n",
    "print(f\"Macro AUC: {macro_auc:.3f}\")\n",
    "print(f\"Weighted AUC: {weighted_auc:.3f}\")\n"
   ]
  },
  {
   "cell_type": "markdown",
   "metadata": {},
   "source": [
    "### Results Interpretation of ROC–AUC \n",
    "\n",
    "The Macro AUC of 0.83 and Weighted AUC of 0.84 indicate that the logistic regression model has a strong ability to distinguish between functional, non-functional, and repair-needed wells.\n",
    "\n",
    "Macro AUC (0.83) treats all classes equally and shows that across all waterpoint categories, the model achieves good separation between positive and negative cases.\n",
    "\n",
    "Weighted AUC (0.84) accounts for class imbalance (since functional wells are more frequent) and confirms consistent predictive performance across the dataset.\n",
    "\n",
    "In the context of the Eat’er Wells project, this means the model can reliably rank wells by their likelihood of failure or repair needs, making it valuable for prioritizing maintenance, optimizing resource allocation, and supporting evidence-based infrastructure planning."
   ]
  },
  {
   "cell_type": "markdown",
   "metadata": {},
   "source": [
    "## Hyperparameter Tuning for Logistic Regression\n",
    "\n",
    "\n",
    "In this step, I will fine-tune the Logistic Regression model to improve its accuracy and generalization.\n",
    "By testing different regularization strengths (C) and penalty types (l1, l2), we aim to find the best settings that help the model distinguish between functional, needs repair, and non-functional wells.\n",
    "This optimization is crucial for identifying wells at risk of failure so that maintenance resources can be directed more efficiently in Tanzania’s rural regions."
   ]
  },
  {
   "cell_type": "code",
   "execution_count": 26,
   "metadata": {},
   "outputs": [
    {
     "name": "stdout",
     "output_type": "stream",
     "text": [
      "Best Params: {'clf__C': 0.1}\n",
      "Best F1 Score: 0.703\n"
     ]
    }
   ],
   "source": [
    "from sklearn.model_selection import GridSearchCV\n",
    "from sklearn.linear_model import LogisticRegression\n",
    "from sklearn.pipeline import Pipeline\n",
    "\n",
    "# Define pipeline\n",
    "log_pipe = Pipeline(steps=[\n",
    "    ('preprocessor', preprocessor),\n",
    "    ('clf', LogisticRegression(max_iter=1000, class_weight='balanced', solver='liblinear'))\n",
    "])\n",
    "\n",
    "# Small, fast parameter grid\n",
    "param_grid = {'clf__C': [0.1, 1]}\n",
    "\n",
    "# Use smaller subset for tuning\n",
    "X_train_small = X_train.sample(5000, random_state=42)\n",
    "y_train_small = y_train.loc[X_train_small.index]\n",
    "\n",
    "grid = GridSearchCV(log_pipe, param_grid, cv=3, scoring='f1_weighted', n_jobs=-1)\n",
    "grid.fit(X_train_small, y_train_small)\n",
    "\n",
    "print(\"Best Params:\", grid.best_params_)\n",
    "print(\"Best F1 Score:\", round(grid.best_score_, 3))\n"
   ]
  },
  {
   "cell_type": "markdown",
   "metadata": {},
   "source": [
    "### Results Interpretation – Logistic Regression Hyperparameter Tuning\n",
    "\n",
    "The best-performing Logistic Regression model achieved an F1-score of **0.703** using a regularization strength **C = 0.1**.  \n",
    "This result suggests that applying stronger regularization (simpler model) improves the model’s ability to generalize beyond the training data.  \n",
    "\n",
    "The F1-score indicates a good trade-off between precision and recall, meaning the model can effectively identify wells that need repair or are non-functional without producing excessive false positives.  \n",
    "Overall, this configuration enhances reliability and stability in real-world applications where maintenance decisions must be data-driven.\n"
   ]
  },
  {
   "cell_type": "markdown",
   "metadata": {},
   "source": [
    "## Decision Tree"
   ]
  },
  {
   "cell_type": "code",
   "execution_count": 27,
   "metadata": {},
   "outputs": [],
   "source": [
    "from sklearn.metrics import classification_report, confusion_matrix, accuracy_score\n",
    "\n",
    "def model_evaluation_summary(model, X_test, y_test, name=\"Model\"):\n",
    "    y_pred = model.predict(X_test)\n",
    "    \n",
    "    print(f\"===== {name} Evaluation =====\")\n",
    "    print(\"Accuracy:\", round(accuracy_score(y_test, y_pred), 3))\n",
    "    print(\"\\nClassification Report:\")\n",
    "    print(classification_report(y_test, y_pred))\n",
    "    print(\"\\nConfusion Matrix:\")\n",
    "    print(confusion_matrix(y_test, y_pred))\n",
    "    print(\"=\"*40)\n"
   ]
  },
  {
   "cell_type": "code",
   "execution_count": 28,
   "metadata": {},
   "outputs": [
    {
     "name": "stdout",
     "output_type": "stream",
     "text": [
      "Best Params: {'clf__max_depth': 12, 'clf__min_samples_leaf': 5}\n",
      "Best CV F1: 0.52\n",
      "===== Decision Tree (tuned) Evaluation =====\n",
      "Accuracy: 0.598\n",
      "\n",
      "Classification Report:\n",
      "              precision    recall  f1-score   support\n",
      "\n",
      "           0       0.78      0.55      0.65      6452\n",
      "           1       0.18      0.58      0.27       863\n",
      "           2       0.68      0.67      0.67      4565\n",
      "\n",
      "    accuracy                           0.60     11880\n",
      "   macro avg       0.54      0.60      0.53     11880\n",
      "weighted avg       0.69      0.60      0.63     11880\n",
      "\n",
      "\n",
      "Confusion Matrix:\n",
      "[[3569 1593 1290]\n",
      " [ 208  498  157]\n",
      " [ 828  697 3040]]\n",
      "========================================\n"
     ]
    }
   ],
   "source": [
    "\n",
    "from sklearn.tree import DecisionTreeClassifier\n",
    "from sklearn.model_selection import GridSearchCV, StratifiedKFold\n",
    "\n",
    "tree_pipe = Pipeline(steps=[\n",
    "    ('preprocessor', preprocessor),\n",
    "    ('clf', DecisionTreeClassifier(random_state=42, class_weight='balanced'))\n",
    "])\n",
    "\n",
    "param_grid = {\n",
    "    'clf__max_depth': [8, 12],\n",
    "    'clf__min_samples_leaf': [5, 10]\n",
    "}\n",
    "\n",
    "cv = StratifiedKFold(n_splits=3, shuffle=True, random_state=42)\n",
    "tree_grid = GridSearchCV(tree_pipe, param_grid, cv=cv, scoring='f1_macro', n_jobs=-1)\n",
    "tree_grid.fit(X_train_small, y_train_small)\n",
    "\n",
    "print(\"Best Params:\", tree_grid.best_params_)\n",
    "print(\"Best CV F1:\", round(tree_grid.best_score_, 3))\n",
    "\n",
    "# Evaluate on full test set\n",
    "best_tree = tree_grid.best_estimator_\n",
    "model_evaluation_summary(best_tree, X_test, y_test, name=\"Decision Tree (tuned)\")\n"
   ]
  },
  {
   "cell_type": "code",
   "execution_count": 29,
   "metadata": {},
   "outputs": [
    {
     "name": "stdout",
     "output_type": "stream",
     "text": [
      "Decision Tree Test Score: 0.6537878787878788\n"
     ]
    }
   ],
   "source": [
    "from sklearn.tree import DecisionTreeClassifier\n",
    "from sklearn.ensemble import RandomForestClassifier, GradientBoostingClassifier\n",
    "\n",
    "# Decision Tree\n",
    "tree_pipe = Pipeline([\n",
    "    ('preprocessor', preprocessor),\n",
    "    ('clf', DecisionTreeClassifier(max_depth=12, class_weight='balanced', random_state=42))\n",
    "])\n",
    "tree_pipe.fit(X_train, y_train)\n",
    "\n",
    "print(\"Decision Tree Test Score:\", tree_pipe.score(X_test, y_test))\n"
   ]
  },
  {
   "cell_type": "markdown",
   "metadata": {},
   "source": [
    "### Decision Tree (Tuned) – Results Interpretation\n",
    "\n",
    "The tuned Decision Tree achieved an **accuracy of 59.8%** and a **macro F1-score of 0.53** using the best parameters:\n",
    "`max_depth = 12` and `min_samples_leaf = 5`.\n",
    "\n",
    "The model performs reasonably well in distinguishing **functional** and **non-functional** wells, with F1-scores of **0.65** and **0.67** respectively. However, it struggles with the **needs repair** class (F1 = 0.27), indicating the model’s limited ability to capture transitional conditions between functional and non-functional states.\n",
    "\n",
    "The confusion matrix shows that many functional wells were incorrectly predicted as needing repair or non-functional, suggesting mild over-prediction of failure cases.\n",
    "\n",
    "**Interpretation:**  \n",
    "While not as accurate as logistic regression, the decision tree offers valuable interpretability. It highlights key decision thresholds and variable splits that influence well status — useful for understanding the main drivers behind well functionality and for communicating findings to stakeholders.\n"
   ]
  },
  {
   "cell_type": "markdown",
   "metadata": {},
   "source": [
    "## Random Forest"
   ]
  },
  {
   "cell_type": "code",
   "execution_count": 30,
   "metadata": {},
   "outputs": [
    {
     "name": "stdout",
     "output_type": "stream",
     "text": [
      "===== Random Forest (baseline) Evaluation =====\n",
      "Accuracy: 0.802\n",
      "\n",
      "Classification Report:\n",
      "              precision    recall  f1-score   support\n",
      "\n",
      "           0       0.81      0.87      0.84      6452\n",
      "           1       0.49      0.35      0.41       863\n",
      "           2       0.83      0.79      0.81      4565\n",
      "\n",
      "    accuracy                           0.80     11880\n",
      "   macro avg       0.71      0.67      0.69     11880\n",
      "weighted avg       0.80      0.80      0.80     11880\n",
      "\n",
      "\n",
      "Confusion Matrix:\n",
      "[[5637  224  591]\n",
      " [ 414  301  148]\n",
      " [ 893   86 3586]]\n",
      "========================================\n"
     ]
    }
   ],
   "source": [
    "\n",
    "from sklearn.ensemble import RandomForestClassifier\n",
    "\n",
    "rf_pipe = Pipeline(steps=[\n",
    "    ('preprocessor', preprocessor),\n",
    "    ('clf', RandomForestClassifier(\n",
    "        n_estimators=100,       # fewer trees for speed\n",
    "        random_state=42,\n",
    "        class_weight='balanced',\n",
    "        n_jobs=-1\n",
    "    ))\n",
    "])\n",
    "\n",
    "rf_pipe.fit(X_train, y_train)\n",
    "model_evaluation_summary(rf_pipe, X_test, y_test, name=\"Random Forest (baseline)\")\n"
   ]
  },
  {
   "cell_type": "code",
   "execution_count": 31,
   "metadata": {},
   "outputs": [],
   "source": [
    "# Random Forest\n",
    "rf_pipe = Pipeline([\n",
    "    ('preprocessor', preprocessor),\n",
    "    ('clf', RandomForestClassifier(n_estimators=200, max_depth=20, class_weight='balanced', random_state=42))\n",
    "])\n",
    "\n",
    "# Gradient Boosting\n",
    "gb_pipe = Pipeline([\n",
    "    ('preprocessor', preprocessor),\n",
    "    ('clf', GradientBoostingClassifier(n_estimators=200, learning_rate=0.1, random_state=42))\n",
    "])\n"
   ]
  },
  {
   "cell_type": "markdown",
   "metadata": {},
   "source": [
    "### Random Forest (Baseline) — Results Interpretation\n",
    "\n",
    "The Random Forest (baseline) achieved an **accuracy of 80.2%** and a **macro F1-score of 0.69**, showing a significant improvement over the Decision Tree model.\n",
    "\n",
    "| Class | Precision | Recall | F1-score | Remarks |\n",
    "|--------|------------|---------|-----------|----------|\n",
    "| Functional | 0.81 | 0.87 | 0.84 | Strong and consistent performance |\n",
    "| Needs Repair | 0.49 | 0.35 | 0.41 | Hardest class to detect; may need rebalancing |\n",
    "| Non-functional | 0.83 | 0.79 | 0.81 | Excellent detection accuracy |\n",
    "\n",
    "**Confusion Matrix Insights:**\n",
    "- Most functional wells correctly identified.\n",
    "- Non-functional wells well captured, crucial for prioritizing failed wells.\n",
    "- Some overlap between “Functional” and “Needs Repair,” likely due to similar field features.\n",
    "\n",
    "**Interpretation:**\n",
    "The Random Forest clearly outperforms both Logistic Regression and Decision Tree models, achieving higher precision and recall across most categories. It provides a strong, reliable baseline for predicting water well functionality in Tanzania, making it ideal for operational deployment and resource planning.\n"
   ]
  },
  {
   "cell_type": "markdown",
   "metadata": {},
   "source": [
    "# Evaluation"
   ]
  },
  {
   "cell_type": "markdown",
   "metadata": {},
   "source": [
    "### Comparing Model Performance"
   ]
  },
  {
   "cell_type": "code",
   "execution_count": 32,
   "metadata": {},
   "outputs": [
    {
     "name": "stdout",
     "output_type": "stream",
     "text": [
      "                 Model  Accuracy  F1_macro  F1_weighted\n",
      "0  Logistic Regression      0.78      0.71         0.74\n",
      "2        Random Forest      0.80      0.69         0.80\n",
      "1        Decision Tree      0.60      0.53         0.63\n"
     ]
    },
    {
     "data": {
      "image/png": "[encoded data removed]",
      "text/plain": [
       "<Figure size 576x360 with 1 Axes>"
      ]
     },
     "metadata": {
      "needs_background": "light"
     },
     "output_type": "display_data"
    }
   ],
   "source": [
    "# Compare models\n",
    "results = pd.DataFrame({\n",
    "    'Model': ['Logistic Regression', 'Decision Tree', 'Random Forest'],\n",
    "    'Accuracy': [0.78, 0.60, 0.80],\n",
    "    'F1_macro': [0.71, 0.53, 0.69],\n",
    "    'F1_weighted': [0.74, 0.63, 0.80]\n",
    "})\n",
    "\n",
    "results.sort_values(by='F1_macro', ascending=False, inplace=True)\n",
    "print(results)\n",
    "\n",
    "# Plot for visualization\n",
    "plt.figure(figsize=(8,5))\n",
    "sns.barplot(x='Model', y='F1_macro', data=results)\n",
    "plt.title('Model Comparison by F1 (Macro)')\n",
    "plt.ylabel('F1 Macro Score')\n",
    "plt.show()\n"
   ]
  },
  {
   "cell_type": "markdown",
   "metadata": {},
   "source": [
    "### Interpretation \n",
    "\n",
    "The Random Forest model achieved the highest overall F1 and accuracy, outperforming Logistic Regression and Decision Tree models. It provides the best balance between precision and recall, particularly for detecting non-functional wells making it the most suitable model for deployment."
   ]
  },
  {
   "cell_type": "code",
   "execution_count": 33,
   "metadata": {},
   "outputs": [
    {
     "data": {
      "image/png": "[encoded data removed]",
      "text/plain": [
       "<Figure size 576x360 with 1 Axes>"
      ]
     },
     "metadata": {
      "needs_background": "light"
     },
     "output_type": "display_data"
    },
    {
     "data": {
      "text/html": [
       "<div>\n",
       "<style scoped>\n",
       "    .dataframe tbody tr th:only-of-type {\n",
       "        vertical-align: middle;\n",
       "    }\n",
       "\n",
       "    .dataframe tbody tr th {\n",
       "        vertical-align: top;\n",
       "    }\n",
       "\n",
       "    .dataframe thead th {\n",
       "        text-align: right;\n",
       "    }\n",
       "</style>\n",
       "<table border=\"1\" class=\"dataframe\">\n",
       "  <thead>\n",
       "    <tr style=\"text-align: right;\">\n",
       "      <th></th>\n",
       "      <th>Class</th>\n",
       "      <th>Precision</th>\n",
       "      <th>Recall</th>\n",
       "      <th>F1-Score</th>\n",
       "    </tr>\n",
       "  </thead>\n",
       "  <tbody>\n",
       "    <tr>\n",
       "      <th>0</th>\n",
       "      <td>functional</td>\n",
       "      <td>0.759436</td>\n",
       "      <td>0.801457</td>\n",
       "      <td>0.779881</td>\n",
       "    </tr>\n",
       "    <tr>\n",
       "      <th>1</th>\n",
       "      <td>functional needs repair</td>\n",
       "      <td>0.250000</td>\n",
       "      <td>0.342990</td>\n",
       "      <td>0.289204</td>\n",
       "    </tr>\n",
       "    <tr>\n",
       "      <th>2</th>\n",
       "      <td>non functional</td>\n",
       "      <td>0.777721</td>\n",
       "      <td>0.662212</td>\n",
       "      <td>0.715334</td>\n",
       "    </tr>\n",
       "  </tbody>\n",
       "</table>\n",
       "</div>"
      ],
      "text/plain": [
       "                     Class  Precision    Recall  F1-Score\n",
       "0               functional   0.759436  0.801457  0.779881\n",
       "1  functional needs repair   0.250000  0.342990  0.289204\n",
       "2           non functional   0.777721  0.662212  0.715334"
      ]
     },
     "execution_count": 33,
     "metadata": {},
     "output_type": "execute_result"
    }
   ],
   "source": [
    "import matplotlib.pyplot as plt\n",
    "import seaborn as sns\n",
    "from sklearn.metrics import precision_score, recall_score, f1_score, accuracy_score\n",
    "\n",
    "# Get class-level metrics\n",
    "classes = le.classes_\n",
    "precision = precision_score(y_test, y_pred, average=None)\n",
    "recall = recall_score(y_test, y_pred, average=None)\n",
    "f1 = f1_score(y_test, y_pred, average=None)\n",
    "\n",
    "# Combine into DataFrame\n",
    "import pandas as pd\n",
    "metrics_df = pd.DataFrame({\n",
    "    'Class': classes,\n",
    "    'Precision': precision,\n",
    "    'Recall': recall,\n",
    "    'F1-Score': f1\n",
    "})\n",
    "\n",
    "# Plot\n",
    "plt.figure(figsize=(8,5))\n",
    "sns.barplot(x='Class', y='F1-Score', data=metrics_df, palette='coolwarm')\n",
    "plt.title(\"F1-Score per Class — Logistic Regression Baseline\")\n",
    "plt.ylim(0, 1)\n",
    "plt.show()\n",
    "\n",
    "metrics_df\n"
   ]
  },
  {
   "cell_type": "markdown",
   "metadata": {},
   "source": [
    "###  Interpretation of Class-Level Performance (Logistic Regression Baseline)\n",
    "\n",
    "| Class | Precision | Recall | F1-Score | Interpretation |\n",
    "|:------|:-----------:|:--------:|:-----------:|:---------------|\n",
    "| **Functional** | 0.76 | 0.80 | 0.78 | The model performs strongly for functional wells, correctly identifying most of them with high reliability. |\n",
    "| **Functional needs repair** | 0.25 | 0.34 | 0.29 | The model struggles with this class, often confusing it with either functional or non-functional wells. This may be due to class imbalance or overlapping feature patterns. |\n",
    "| **Non-functional** | 0.78 | 0.66 | 0.72 | The model is fairly accurate in detecting non-functional wells but still misses some true failure cases. |\n",
    "\n",
    "**Overall Interpretation:**  \n",
    "The model demonstrates strong predictive power for *functional* and *non-functional* wells, but has difficulty recognizing the intermediate *needs repair* category. This indicates that additional feature engineering, data balancing, or non-linear models (e.g., Random Forest, XGBoost) may be required to enhance detection of partially failing wells.\n",
    "\n",
    "**Actionable Insight:**  \n",
    "Despite limitations, the model can effectively support early identification of at-risk waterpoints and guide targeted maintenance planning, particularly for wells likely to fail in the near term.\n"
   ]
  },
  {
   "cell_type": "markdown",
   "metadata": {},
   "source": [
    "### Per-Class Metrics Table (Compact Comparison)"
   ]
  },
  {
   "cell_type": "code",
   "execution_count": 34,
   "metadata": {},
   "outputs": [
    {
     "data": {
      "text/plain": [
       "Pipeline(steps=[('preprocessor',\n",
       "                 ColumnTransformer(transformers=[('num',\n",
       "                                                  Pipeline(steps=[('scaler',\n",
       "                                                                   StandardScaler())]),\n",
       "                                                  ['amount_tsh', 'gps_height',\n",
       "                                                   'well_age', 'longitude',\n",
       "                                                   'latitude']),\n",
       "                                                 ('cat',\n",
       "                                                  Pipeline(steps=[('onehot',\n",
       "                                                                   OneHotEncoder(handle_unknown='ignore',\n",
       "                                                                                 sparse=False))]),\n",
       "                                                  ['extraction_type',\n",
       "                                                   'extraction_type_group',\n",
       "                                                   'management',\n",
       "                                                   'management_group',\n",
       "                                                   'payment', 'water_quality',\n",
       "                                                   'quality_group', 'quantity',\n",
       "                                                   'quantity_group', 'source',\n",
       "                                                   'source_type',\n",
       "                                                   'waterpoint_type',\n",
       "                                                   'waterpoint_type_group',\n",
       "                                                   'funder_grouped',\n",
       "                                                   'installer_grouped',\n",
       "                                                   'region',\n",
       "                                                   'district_code'])])),\n",
       "                ('clf',\n",
       "                 RandomForestClassifier(class_weight='balanced', max_depth=20,\n",
       "                                        n_estimators=200, random_state=42))])"
      ]
     },
     "execution_count": 34,
     "metadata": {},
     "output_type": "execute_result"
    }
   ],
   "source": [
    "# Ensure all models are trained\n",
    "log_pipe.fit(X_train, y_train)\n",
    "best_tree.fit(X_train, y_train)\n",
    "rf_pipe.fit(X_train, y_train)\n"
   ]
  },
  {
   "cell_type": "code",
   "execution_count": 35,
   "metadata": {},
   "outputs": [
    {
     "data": {
      "text/html": [
       "<div>\n",
       "<style scoped>\n",
       "    .dataframe tbody tr th:only-of-type {\n",
       "        vertical-align: middle;\n",
       "    }\n",
       "\n",
       "    .dataframe tbody tr th {\n",
       "        vertical-align: top;\n",
       "    }\n",
       "\n",
       "    .dataframe thead th {\n",
       "        text-align: right;\n",
       "    }\n",
       "</style>\n",
       "<table border=\"1\" class=\"dataframe\">\n",
       "  <thead>\n",
       "    <tr style=\"text-align: right;\">\n",
       "      <th></th>\n",
       "      <th>Model</th>\n",
       "      <th>precision</th>\n",
       "      <th>recall</th>\n",
       "      <th>f1-score</th>\n",
       "    </tr>\n",
       "  </thead>\n",
       "  <tbody>\n",
       "    <tr>\n",
       "      <th>functional</th>\n",
       "      <td>Logistic Regression</td>\n",
       "      <td>0.759436</td>\n",
       "      <td>0.801457</td>\n",
       "      <td>0.779881</td>\n",
       "    </tr>\n",
       "    <tr>\n",
       "      <th>functional</th>\n",
       "      <td>Decision Tree</td>\n",
       "      <td>0.789178</td>\n",
       "      <td>0.653286</td>\n",
       "      <td>0.714831</td>\n",
       "    </tr>\n",
       "    <tr>\n",
       "      <th>functional</th>\n",
       "      <td>Random Forest</td>\n",
       "      <td>0.816087</td>\n",
       "      <td>0.839740</td>\n",
       "      <td>0.827744</td>\n",
       "    </tr>\n",
       "    <tr>\n",
       "      <th>functional needs repair</th>\n",
       "      <td>Logistic Regression</td>\n",
       "      <td>0.250000</td>\n",
       "      <td>0.342990</td>\n",
       "      <td>0.289204</td>\n",
       "    </tr>\n",
       "    <tr>\n",
       "      <th>functional needs repair</th>\n",
       "      <td>Decision Tree</td>\n",
       "      <td>0.216111</td>\n",
       "      <td>0.705678</td>\n",
       "      <td>0.330888</td>\n",
       "    </tr>\n",
       "    <tr>\n",
       "      <th>functional needs repair</th>\n",
       "      <td>Random Forest</td>\n",
       "      <td>0.361177</td>\n",
       "      <td>0.526072</td>\n",
       "      <td>0.428302</td>\n",
       "    </tr>\n",
       "    <tr>\n",
       "      <th>non functional</th>\n",
       "      <td>Logistic Regression</td>\n",
       "      <td>0.777721</td>\n",
       "      <td>0.662212</td>\n",
       "      <td>0.715334</td>\n",
       "    </tr>\n",
       "    <tr>\n",
       "      <th>non functional</th>\n",
       "      <td>Decision Tree</td>\n",
       "      <td>0.782048</td>\n",
       "      <td>0.637459</td>\n",
       "      <td>0.702390</td>\n",
       "    </tr>\n",
       "    <tr>\n",
       "      <th>non functional</th>\n",
       "      <td>Random Forest</td>\n",
       "      <td>0.858183</td>\n",
       "      <td>0.748959</td>\n",
       "      <td>0.799860</td>\n",
       "    </tr>\n",
       "    <tr>\n",
       "      <th>accuracy</th>\n",
       "      <td>Logistic Regression</td>\n",
       "      <td>0.714646</td>\n",
       "      <td>0.714646</td>\n",
       "      <td>0.714646</td>\n",
       "    </tr>\n",
       "    <tr>\n",
       "      <th>accuracy</th>\n",
       "      <td>Decision Tree</td>\n",
       "      <td>0.651010</td>\n",
       "      <td>0.651010</td>\n",
       "      <td>0.651010</td>\n",
       "    </tr>\n",
       "    <tr>\n",
       "      <th>accuracy</th>\n",
       "      <td>Random Forest</td>\n",
       "      <td>0.782071</td>\n",
       "      <td>0.782071</td>\n",
       "      <td>0.782071</td>\n",
       "    </tr>\n",
       "  </tbody>\n",
       "</table>\n",
       "</div>"
      ],
      "text/plain": [
       "                                       Model  precision    recall  f1-score\n",
       "functional               Logistic Regression   0.759436  0.801457  0.779881\n",
       "functional                     Decision Tree   0.789178  0.653286  0.714831\n",
       "functional                     Random Forest   0.816087  0.839740  0.827744\n",
       "functional needs repair  Logistic Regression   0.250000  0.342990  0.289204\n",
       "functional needs repair        Decision Tree   0.216111  0.705678  0.330888\n",
       "functional needs repair        Random Forest   0.361177  0.526072  0.428302\n",
       "non functional           Logistic Regression   0.777721  0.662212  0.715334\n",
       "non functional                 Decision Tree   0.782048  0.637459  0.702390\n",
       "non functional                 Random Forest   0.858183  0.748959  0.799860\n",
       "accuracy                 Logistic Regression   0.714646  0.714646  0.714646\n",
       "accuracy                       Decision Tree   0.651010  0.651010  0.651010\n",
       "accuracy                       Random Forest   0.782071  0.782071  0.782071"
      ]
     },
     "execution_count": 35,
     "metadata": {},
     "output_type": "execute_result"
    }
   ],
   "source": [
    "from sklearn.metrics import classification_report\n",
    "import pandas as pd\n",
    "\n",
    "def get_model_metrics(model, X_test, y_test, name):\n",
    "    y_pred = model.predict(X_test)\n",
    "    report = classification_report(y_test, y_pred, output_dict=True, target_names=le.classes_)\n",
    "    df = pd.DataFrame(report).transpose()\n",
    "    df['Model'] = name\n",
    "    return df\n",
    "\n",
    "# Collect reports for all models\n",
    "df_lr = get_model_metrics(log_pipe, X_test, y_test, 'Logistic Regression')\n",
    "df_tree = get_model_metrics(best_tree, X_test, y_test, 'Decision Tree')\n",
    "df_rf = get_model_metrics(rf_pipe, X_test, y_test, 'Random Forest')\n",
    "\n",
    "# Combine into one\n",
    "comparison_df = pd.concat([df_lr, df_tree, df_rf])\n",
    "comparison_df.loc[['functional', 'functional needs repair', 'non functional', 'accuracy'], ['Model','precision','recall','f1-score']]\n"
   ]
  },
  {
   "cell_type": "markdown",
   "metadata": {},
   "source": [
    "### Per-Class Metrics Summary\n",
    "\n",
    "Random Forest outperformed both Logistic Regression and Decision Tree across all classes.\n",
    "It achieved the highest overall accuracy (0.78) and strong F1-scores for both **functional (0.83)** and **non-functional (0.80)** wells.\n",
    "Although all models struggled with the **“needs repair”** class, Random Forest showed the best balance between precision and recall, making it the most reliable model for predicting well functionality.\n"
   ]
  },
  {
   "cell_type": "code",
   "execution_count": 36,
   "metadata": {},
   "outputs": [],
   "source": [
    "models = {\n",
    "    'Logistic Regression': log_pipe,\n",
    "    'Decision Tree': best_tree,\n",
    "    'Random Forest': rf_pipe\n",
    "}\n"
   ]
  },
  {
   "cell_type": "code",
   "execution_count": 37,
   "metadata": {},
   "outputs": [
    {
     "data": {
      "text/html": [
       "<div>\n",
       "<style scoped>\n",
       "    .dataframe tbody tr th:only-of-type {\n",
       "        vertical-align: middle;\n",
       "    }\n",
       "\n",
       "    .dataframe tbody tr th {\n",
       "        vertical-align: top;\n",
       "    }\n",
       "\n",
       "    .dataframe thead th {\n",
       "        text-align: right;\n",
       "    }\n",
       "</style>\n",
       "<table border=\"1\" class=\"dataframe\">\n",
       "  <thead>\n",
       "    <tr style=\"text-align: right;\">\n",
       "      <th></th>\n",
       "      <th>Model</th>\n",
       "      <th>precision</th>\n",
       "      <th>recall</th>\n",
       "      <th>f1-score</th>\n",
       "    </tr>\n",
       "  </thead>\n",
       "  <tbody>\n",
       "    <tr>\n",
       "      <th>functional</th>\n",
       "      <td>Logistic Regression</td>\n",
       "      <td>0.759436</td>\n",
       "      <td>0.801457</td>\n",
       "      <td>0.779881</td>\n",
       "    </tr>\n",
       "    <tr>\n",
       "      <th>functional</th>\n",
       "      <td>Decision Tree</td>\n",
       "      <td>0.789178</td>\n",
       "      <td>0.653286</td>\n",
       "      <td>0.714831</td>\n",
       "    </tr>\n",
       "    <tr>\n",
       "      <th>functional</th>\n",
       "      <td>Random Forest</td>\n",
       "      <td>0.816087</td>\n",
       "      <td>0.839740</td>\n",
       "      <td>0.827744</td>\n",
       "    </tr>\n",
       "    <tr>\n",
       "      <th>functional needs repair</th>\n",
       "      <td>Logistic Regression</td>\n",
       "      <td>0.250000</td>\n",
       "      <td>0.342990</td>\n",
       "      <td>0.289204</td>\n",
       "    </tr>\n",
       "    <tr>\n",
       "      <th>functional needs repair</th>\n",
       "      <td>Decision Tree</td>\n",
       "      <td>0.216111</td>\n",
       "      <td>0.705678</td>\n",
       "      <td>0.330888</td>\n",
       "    </tr>\n",
       "    <tr>\n",
       "      <th>functional needs repair</th>\n",
       "      <td>Random Forest</td>\n",
       "      <td>0.361177</td>\n",
       "      <td>0.526072</td>\n",
       "      <td>0.428302</td>\n",
       "    </tr>\n",
       "    <tr>\n",
       "      <th>non functional</th>\n",
       "      <td>Logistic Regression</td>\n",
       "      <td>0.777721</td>\n",
       "      <td>0.662212</td>\n",
       "      <td>0.715334</td>\n",
       "    </tr>\n",
       "    <tr>\n",
       "      <th>non functional</th>\n",
       "      <td>Decision Tree</td>\n",
       "      <td>0.782048</td>\n",
       "      <td>0.637459</td>\n",
       "      <td>0.702390</td>\n",
       "    </tr>\n",
       "    <tr>\n",
       "      <th>non functional</th>\n",
       "      <td>Random Forest</td>\n",
       "      <td>0.858183</td>\n",
       "      <td>0.748959</td>\n",
       "      <td>0.799860</td>\n",
       "    </tr>\n",
       "    <tr>\n",
       "      <th>accuracy</th>\n",
       "      <td>Logistic Regression</td>\n",
       "      <td>0.714646</td>\n",
       "      <td>0.714646</td>\n",
       "      <td>0.714646</td>\n",
       "    </tr>\n",
       "    <tr>\n",
       "      <th>accuracy</th>\n",
       "      <td>Decision Tree</td>\n",
       "      <td>0.651010</td>\n",
       "      <td>0.651010</td>\n",
       "      <td>0.651010</td>\n",
       "    </tr>\n",
       "    <tr>\n",
       "      <th>accuracy</th>\n",
       "      <td>Random Forest</td>\n",
       "      <td>0.782071</td>\n",
       "      <td>0.782071</td>\n",
       "      <td>0.782071</td>\n",
       "    </tr>\n",
       "  </tbody>\n",
       "</table>\n",
       "</div>"
      ],
      "text/plain": [
       "                                       Model  precision    recall  f1-score\n",
       "functional               Logistic Regression   0.759436  0.801457  0.779881\n",
       "functional                     Decision Tree   0.789178  0.653286  0.714831\n",
       "functional                     Random Forest   0.816087  0.839740  0.827744\n",
       "functional needs repair  Logistic Regression   0.250000  0.342990  0.289204\n",
       "functional needs repair        Decision Tree   0.216111  0.705678  0.330888\n",
       "functional needs repair        Random Forest   0.361177  0.526072  0.428302\n",
       "non functional           Logistic Regression   0.777721  0.662212  0.715334\n",
       "non functional                 Decision Tree   0.782048  0.637459  0.702390\n",
       "non functional                 Random Forest   0.858183  0.748959  0.799860\n",
       "accuracy                 Logistic Regression   0.714646  0.714646  0.714646\n",
       "accuracy                       Decision Tree   0.651010  0.651010  0.651010\n",
       "accuracy                       Random Forest   0.782071  0.782071  0.782071"
      ]
     },
     "execution_count": 37,
     "metadata": {},
     "output_type": "execute_result"
    }
   ],
   "source": [
    "from sklearn.metrics import classification_report\n",
    "import pandas as pd\n",
    "\n",
    "def get_model_metrics(model, X_test, y_test, name):\n",
    "    y_pred = model.predict(X_test)\n",
    "    report = classification_report(y_test, y_pred, output_dict=True, target_names=le.classes_)\n",
    "    df = pd.DataFrame(report).transpose()\n",
    "    df['Model'] = name\n",
    "    return df\n",
    "\n",
    "# Collect reports for all models\n",
    "df_lr = get_model_metrics(log_pipe, X_test, y_test, 'Logistic Regression')\n",
    "df_tree = get_model_metrics(best_tree, X_test, y_test, 'Decision Tree')\n",
    "df_rf = get_model_metrics(rf_pipe, X_test, y_test, 'Random Forest')\n",
    "\n",
    "# Combine into one\n",
    "comparison_df = pd.concat([df_lr, df_tree, df_rf])\n",
    "comparison_df.loc[['functional', 'functional needs repair', 'non functional', 'accuracy'], ['Model','precision','recall','f1-score']]\n"
   ]
  },
  {
   "cell_type": "markdown",
   "metadata": {},
   "source": [
    "## Precision–Recall Curve (for “Non-Functional” Wells)"
   ]
  },
  {
   "cell_type": "code",
   "execution_count": 38,
   "metadata": {},
   "outputs": [
    {
     "data": {
      "image/png": "[encoded data removed]",
      "text/plain": [
       "<Figure size 432x360 with 1 Axes>"
      ]
     },
     "metadata": {
      "needs_background": "light"
     },
     "output_type": "display_data"
    }
   ],
   "source": [
    "from sklearn.metrics import precision_recall_curve, average_precision_score\n",
    "import matplotlib.pyplot as plt\n",
    "import numpy as np\n",
    "\n",
    "plt.figure(figsize=(6,5))\n",
    "\n",
    "for name, model in models.items():\n",
    "    y_score = model.predict_proba(X_test)\n",
    "    # Focus on the non-functional class (index = 2)\n",
    "    precision, recall, _ = precision_recall_curve(y_test == 2, y_score[:,2])\n",
    "    ap = average_precision_score(y_test == 2, y_score[:,2])\n",
    "    plt.plot(recall, precision, label=f\"{name} (AP={ap:.2f})\")\n",
    "\n",
    "plt.title(\"Precision–Recall Curve — Non-Functional Wells\")\n",
    "plt.xlabel(\"Recall\")\n",
    "plt.ylabel(\"Precision\")\n",
    "plt.legend()\n",
    "plt.grid(True)\n",
    "plt.show()\n"
   ]
  },
  {
   "cell_type": "markdown",
   "metadata": {},
   "source": [
    "### interpretation\n",
    "\n",
    "Random Forest achieved the highest Average Precision (AP), showing the best trade-off between precision and recall , it consistently identifies non-functional wells correctly while minimizing false positives.\n",
    "\n",
    "Logistic Regression performs moderately well but shows lower precision at higher recall values, meaning it identifies more wells as non-functional but with less accuracy.\n",
    "\n",
    "Decision Tree has the weakest curve, indicating unstable predictions with more false alarms.\n",
    "\n",
    "Conclusion:\n",
    "The Random Forest model is most effective in detecting non-functional wells, offering a strong balance between sensitivity and accuracy — ideal for prioritizing maintenance and repair interventions."
   ]
  },
  {
   "cell_type": "markdown",
   "metadata": {},
   "source": [
    "# Final Insights and Recommendations\n",
    "\n",
    "### 1. Summary of Analysis\n",
    "This study analyzed Tanzania’s water well dataset to understand the key drivers of well functionality and predict whether a well is *functional*, *functional but needs repair*, or *non-functional*.  \n",
    "Data preprocessing involved cleaning, encoding, and scaling both numerical and categorical variables, followed by model training using Logistic Regression, Decision Tree, and Random Forest classifiers.\n",
    "\n",
    "Key stages included:\n",
    "- **Exploratory Data Analysis (EDA):** Uncovered relationships between well status and factors such as construction year, water quality, quantity, management, and source type.  \n",
    "- **Feature Engineering:** Encoded categorical variables, standardized numerical fields, and handled missing data to ensure model compatibility.  \n",
    "- **Modeling and Evaluation:** Compared the performance of three machine learning models using accuracy, precision, recall, F1-score, and precision–recall curves.\n",
    "\n",
    "---\n",
    "\n",
    "### 2. Major Findings from EDA\n",
    "- **Well Condition Distribution:** A significant proportion of wells are functional, but a notable share (~30–40%) are either non-functional or need repair, indicating maintenance challenges in certain regions.\n",
    "- **Geographic Patterns:** Regions such as Shinyanga, Dodoma, and Singida show higher proportions of non-functional wells, suggesting possible water table or maintenance issues.  \n",
    "- **Installation Year:** Older wells (constructed before 2000) show a much higher probability of being non-functional. This aligns with the natural deterioration of infrastructure over time.  \n",
    "- **Management Type:** Wells managed by communities or water committees perform significantly better than those with no formal management.  \n",
    "- **Source Type and Water Quality:** Wells drawing from protected springs or boreholes have higher functionality compared to shallow wells or unprotected sources. Poor water quality correlates with higher non-functionality.  \n",
    "\n",
    "These findings imply that **age, management structure, and water source protection** are strong determinants of well functionality.\n",
    "\n",
    "---\n",
    "\n",
    "### 3. Model Performance Summary\n",
    "| Model | Accuracy | Key Strengths | Key Limitations |\n",
    "|:--|:--:|:--|:--|\n",
    "| **Logistic Regression** | ~71% | Interpretable; establishes baseline | Struggles with nonlinear relationships |\n",
    "| **Decision Tree (Tuned)** | ~65% | Easy to visualize; captures simple splits | Overfits; lower generalization accuracy |\n",
    "| **Random Forest (Baseline)** | **~78%** | Strongest performer; handles nonlinearities; robust to noise | Less interpretable; requires computation |\n",
    "\n",
    "- The **Random Forest** model consistently achieved the highest overall accuracy (≈78%) and F1-scores across all well categories.\n",
    "- The **Precision–Recall curve** shows that Random Forest provides the best balance in identifying *non-functional* wells, which are the most critical from an intervention standpoint.\n",
    "- Logistic Regression remains valuable for interpretability, helping to confirm which variables most influence well status (e.g., construction year, management, water source).\n",
    "\n",
    "---\n",
    "\n",
    "### 4. Interpretation of Results\n",
    "- **Functional wells:** Random Forest correctly identifies over 83% of functional wells, demonstrating strong performance in recognizing operational sites.  \n",
    "- **Wells needing repair:** All models struggle moderately in this class (F1-scores around 0.3–0.4), indicating that this middle category may be difficult to distinguish due to data overlap between functional and non-functional states.  \n",
    "- **Non-functional wells:** Precision and recall values above 0.75 for Random Forest indicate reliable detection of at-risk or failed wells.\n",
    "\n",
    "These patterns suggest that predictive modeling can effectively support **preventive maintenance planning** and **resource allocation** by identifying wells likely to fail.\n",
    "\n",
    "---\n",
    "\n",
    "### 5. Recommendations\n",
    "\n",
    "#### (a) Operational and Policy Recommendations\n",
    "1. **Prioritize Maintenance for Aging Wells:**  \n",
    "   Wells built before 2000 should be periodically assessed for refurbishment or replacement, as their risk of failure is significantly higher.\n",
    "\n",
    "2. **Strengthen Community-Based Management:**  \n",
    "   Training and empowering water user associations or local committees correlates strongly with sustained functionality. Expansion of such programs could improve long-term well performance.\n",
    "\n",
    "3. **Protect Water Sources:**  \n",
    "   Wells drawing from unprotected or shallow sources are at higher risk of contamination and mechanical failure. Government and NGOs should invest in **source protection** and **water quality monitoring**.\n",
    "\n",
    "4. **Regional Resource Targeting:**  \n",
    "   Deploy maintenance teams preferentially to high-risk zones (e.g., Dodoma, Shinyanga, Singida) where non-functional rates are elevated.\n",
    "\n",
    "5. **Implement Predictive Monitoring Systems:**  \n",
    "   The developed Random Forest model can be embedded in a digital dashboard (e.g., via Power BI or a Flask web app) to flag wells predicted as “likely to fail,” enabling proactive interventions.\n",
    "\n",
    "---\n",
    "\n",
    "#### (b) Data and Technical Recommendations\n",
    "1. **Improve Data Collection Consistency:**  \n",
    "   Standardize data entry formats for key fields like `management`, `source_type`, and `construction_year` to minimize missing or inconsistent records.\n",
    "\n",
    "2. **Enhance Label Quality:**  \n",
    "   Reassess how “needs repair” wells are labeled  additional sensor data or maintenance logs could help refine this intermediate category for better model accuracy.\n",
    "\n",
    "3. **Integrate Geospatial Data:**  \n",
    "   Incorporate satellite-derived environmental variables (e.g., rainfall, soil type, distance to rivers) to enhance model explanatory power.\n",
    "\n",
    "4. **Model Deployment:**  \n",
    "   Export the Random Forest model as a `.pkl` file and integrate it into a lightweight web interface to allow non-technical users to input well details and receive functionality predictions.\n",
    "\n",
    "---\n",
    "\n",
    "### 6. Conclusion\n",
    "This analysis demonstrates that **machine learning can meaningfully support water infrastructure management** in Tanzania.  \n",
    "The Random Forest model provides reliable predictive performance, and insights from data exploration highlight actionable factors ,such as well age, management structure, and regional risk that can guide strategic interventions.\n",
    "\n",
    "With continued data improvement and integration of predictive systems into operational workflows, the Ministry of Water and partner NGOs can significantly enhance **service reliability, maintenance planning, and equitable access to clean water**.\n",
    "\n",
    "---\n",
    "\n",
    "###  Next Steps\n",
    "- Deploy the Random Forest model into a **Flask-based web app** or **Power BI dashboard**.  \n",
    "- Set up an **automated data pipeline** for real-time well status updates.  \n",
    "- Collaborate with local water agencies to validate model predictions and track intervention outcomes.\n",
    "\n"
   ]
  },
  {
   "cell_type": "code",
   "execution_count": null,
   "metadata": {},
   "outputs": [],
   "source": []
  }
 ],
 "metadata": {
  "kernelspec": {
   "display_name": "Python 3",
   "language": "python",
   "name": "python3"
  },
  "language_info": {
   "codemirror_mode": {
    "name": "ipython",
    "version": 3
   },
   "file_extension": ".py",
   "mimetype": "text/x-python",
   "name": "python",
   "nbconvert_exporter": "python",
   "pygments_lexer": "ipython3",
   "version": "3.8.5"
  }
 },
 "nbformat": 4,
 "nbformat_minor": 4
}
